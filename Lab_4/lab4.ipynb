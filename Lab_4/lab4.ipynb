{
 "cells": [
  {
   "cell_type": "code",
   "execution_count": null,
   "id": "5960fd62-1fa6-4f5a-8e7b-a9e1c10b8ca6",
   "metadata": {},
   "outputs": [],
   "source": [
    "# read winequality-red.csv into a pandas dataframe\n",
    "import pandas as pd\n",
    "import numpy as np\n",
    "import matplotlib.pyplot as plt\n",
    "\n",
    "df = pd.read_csv('winequality-red.csv', sep=';')\n",
    "df.head()"
   ]
  },
  {
   "cell_type": "code",
   "execution_count": null,
   "id": "87029821",
   "metadata": {},
   "outputs": [
    {
     "ename": "",
     "evalue": "",
     "output_type": "error",
     "traceback": [
      "\u001b[1;31mRunning cells with 'Python 3.10.6 ('venv': venv)' requires ipykernel package.\n",
      "\u001b[1;31mRun the following command to install 'ipykernel' into the Python environment. \n",
      "\u001b[1;31mCommand: '\"/home/paritoshtripathi/semester 5/AI_ML/venv/bin/python\" -m pip install ipykernel -U --force-reinstall'"
     ]
    }
   ],
   "source": [
    "# check the missing values\n",
    "df.isnull().sum()\n"
   ]
  },
  {
   "cell_type": "code",
   "execution_count": null,
   "id": "0b80114e",
   "metadata": {},
   "outputs": [],
   "source": [
    "# remove unwanted features from the dataset\n",
    "df = df.drop(['citric acid', 'residual sugar', 'free sulfur dioxide', 'total sulfur dioxide', 'pH', 'sulphates'], axis=1) # we are dropping the columns because we don't need them\n",
    "df.head()"
   ]
  },
  {
   "cell_type": "code",
   "execution_count": null,
   "id": "d8794842",
   "metadata": {},
   "outputs": [
    {
     "ename": "",
     "evalue": "",
     "output_type": "error",
     "traceback": [
      "\u001b[1;31mRunning cells with 'Python 3.10.6 ('venv': venv)' requires ipykernel package.\n",
      "\u001b[1;31mRun the following command to install 'ipykernel' into the Python environment. \n",
      "\u001b[1;31mCommand: '\"/home/paritoshtripathi/semester 5/AI_ML/venv/bin/python\" -m pip install ipykernel -U --force-reinstall'"
     ]
    }
   ],
   "source": [
    "# Check for the outliers in the columns and treat the outliers if present.\n",
    "# We will use boxplot to check for the outliers\n",
    "df.boxplot(column=['fixed acidity', 'volatile acidity', 'chlorides', 'density', 'alcohol', 'quality'])\n",
    "plt.show()\n",
    "\n",
    "# remove outliers \n",
    "df = df[df['fixed acidity'] < 15]\n",
    "df = df[df['volatile acidity'] < 1.5]\n",
    "df = df[df['chlorides'] < 0.6]\n",
    "df = df[df['density'] < 1.0]\n",
    "df = df[df['alcohol'] < 15]\n",
    "\n",
    "# apply standardization on the dataset\n",
    "from sklearn.preprocessing import StandardScaler\n",
    "scaler = StandardScaler()\n",
    "df_scaled = scaler.fit_transform(df)\n"
   ]
  },
  {
   "cell_type": "code",
   "execution_count": null,
   "id": "7ca8a207",
   "metadata": {},
   "outputs": [],
   "source": [
    "# Handle the Target columns. Map the quality column to numeric form such as: “ >8 ” to 3 (Best Quality) and \n",
    "# “ Greater than 6 and less than 8” to 2 (medium quality)“less than 5” to 1 (Worst)\n",
    "df['quality'] = df['quality'].apply(lambda x: 3 if x > 8 else (2 if x > 6 else 1))\n",
    "df.head()\n",
    "\n",
    "# Split the dataset into training and testing dataset with 80:20 ratio\n",
    "from sklearn.model_selection import train_test_split\n",
    "X = df.drop('quality', axis=1)\n",
    "y = df['quality']\n",
    "X_train, X_test, y_train, y_test = train_test_split(X, y, test_size=0.2, random_state=42)\n",
    "\n",
    "# build a Naive Bayes classifier\n",
    "from sklearn.naive_bayes import GaussianNB\n",
    "\n",
    "gnb = GaussianNB()\n",
    "\n",
    "# fit the model\n",
    "gnb.fit(X_train, y_train)\n",
    "\n",
    "# predict the model\n",
    "y_pred = gnb.predict(X_test)\n",
    "\n",
    "# evaluate the model\n",
    "from sklearn.metrics import accuracy_score\n",
    "print(\"Accuracy:\", accuracy_score(y_test, y_pred))\n",
    "# print recall \n",
    "from sklearn.metrics import recall_score\n",
    "print(\"Recall:\", recall_score(y_test, y_pred, average='macro'))\n",
    "\n",
    "# Also check the values in confusion matrix\n",
    "from sklearn.metrics import confusion_matrix\n",
    "print(\"Confusion Matrix:\", confusion_matrix(y_test, y_pred))\n"
   ]
  }
 ],
 "metadata": {
  "kernelspec": {
   "display_name": "Python 3.10.6 ('venv': venv)",
   "language": "python",
   "name": "python3"
  },
  "language_info": {
   "codemirror_mode": {
    "name": "ipython",
    "version": 3
   },
   "file_extension": ".py",
   "mimetype": "text/x-python",
   "name": "python",
   "nbconvert_exporter": "python",
   "pygments_lexer": "ipython3",
   "version": "3.10.6"
  },
  "vscode": {
   "interpreter": {
    "hash": "9994c05690e74bee02fda356640042ee011147954edb1e09ba1236c4c88c9951"
   }
  }
 },
 "nbformat": 4,
 "nbformat_minor": 5
}
