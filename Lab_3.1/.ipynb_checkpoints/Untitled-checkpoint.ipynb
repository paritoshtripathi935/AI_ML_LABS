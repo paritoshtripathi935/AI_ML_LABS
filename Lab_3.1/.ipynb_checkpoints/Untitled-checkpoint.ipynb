{
 "cells": [
  {
   "cell_type": "code",
   "execution_count": 17,
   "id": "b0d8a69a-455b-4fbd-a9a2-ec434e20c4d9",
   "metadata": {},
   "outputs": [
    {
     "name": "stdout",
     "output_type": "stream",
     "text": [
      "y = 0.14940032500737416x + -4.85722573273506e-17\n",
      "MSE = 1.084498435824864\n"
     ]
    },
    {
     "data": {
      "image/png": "[encoded data removed]",
      "text/plain": [
       "<Figure size 432x288 with 1 Axes>"
      ]
     },
     "metadata": {
      "needs_background": "light"
     },
     "output_type": "display_data"
    }
   ],
   "source": [
    "# implement multilinear regression without using any libraries on Lab_3.1/student-por.csv\n",
    "\n",
    "import csv\n",
    "import numpy as np\n",
    "import pandas as pd\n",
    "import matplotlib.pyplot as plt\n",
    "\n",
    "# read data from csv file\n",
    "def read_data(filename):\n",
    "    data = []\n",
    "    with open(filename, 'r') as csvfile:\n",
    "        csvreader = csv.reader(csvfile)\n",
    "        for row in csvreader:\n",
    "            data.append(row)\n",
    "    return data\n",
    "\n",
    "# convert data to numpy array\n",
    "def convert_to_numpy(data):\n",
    "    data = np.array(data)\n",
    "    return data\n",
    "\n",
    "# convert data to float\n",
    "def convert_to_float(data):\n",
    "    data = data.astype(np.float)\n",
    "    return data\n",
    "\n",
    "\n",
    "# split data into train and test\n",
    "def split_data(data):\n",
    "    train = data[:int(len(data)*0.8)]\n",
    "    test = data[int(len(data)*0.8):]\n",
    "    return train, test\n",
    "\n",
    "\n",
    "# calculate mean\n",
    "def mean(data):\n",
    "    return np.mean(data, axis=0)\n",
    "\n",
    "\n",
    "# calculate standard deviation\n",
    "def std(data):\n",
    "    return np.std(data, axis=0)\n",
    "\n",
    "\n",
    "# implement mlr\n",
    "def mlr(train, test):\n",
    "    # calculate mean and std\n",
    "    train_mean = mean(train)\n",
    "    train_std = std(train)\n",
    "\n",
    "    # normalize data\n",
    "    train = (train - train_mean) / train_std  # normalize train data\n",
    "    test = (test - train_mean) / train_std\n",
    "\n",
    "    # add bias\n",
    "    train = np.insert(train, 0, 1, axis=1) # add bias to train data by adding a column of 1s\n",
    "    test = np.insert(test, 0, 1, axis=1)  # add bias to test data by adding a column of 1s\n",
    "\n",
    "    # split train and test data\n",
    "    train_x = train[:, :-1]\n",
    "    train_y = train[:, -1]\n",
    "    test_x = test[:, :-1]\n",
    "    test_y = test[:, -1]\n",
    "\n",
    "    # calculate weights using normal equation method (w = (X^T * X)^-1 * X^T * y) \n",
    "    weights = np.dot(np.dot(np.linalg.inv(np.dot(train_x.T, train_x)), train_x.T), train_y)\n",
    "\n",
    "\n",
    "    # calculate predictions using test data and weights calculated above (y = X * w) using dot product\n",
    "    predictions = np.dot(test_x, weights)\n",
    "    \n",
    " \n",
    "    # calculate error using mean squared error (MSE) (MSE = 1/n * sum((y - y_hat)^2))\n",
    "    error = np.sum(np.square(predictions - test_y)) / len(test_y)\n",
    "    print('y = {}x + {}'.format(weights[1], weights[0]))\n",
    "    print(\"MSE =\", error)\n",
    "    \n",
    "\n",
    "    return predictions\n",
    "\n",
    "\n",
    "# main function\n",
    "def main():\n",
    "    # read data\n",
    "    data = pd.read_csv('student-por.csv',delimiter=';')\n",
    "    X = data.drop('G3',axis=1)\n",
    "    y = data['G3']\n",
    "    X = pd.get_dummies(X, drop_first=True)  # oaky\n",
    "    \n",
    "    from sklearn.model_selection import train_test_split\n",
    "    X_train, X_test, y_train, y_test = train_test_split(X, y, test_size=0.3, random_state=42)\n",
    "    from sklearn.preprocessing import MinMaxScaler\n",
    "    \n",
    "    scaler = MinMaxScaler()\n",
    "    X_train = scaler.fit_transform(X_train)\n",
    "    X_test = scaler.transform(X_test)\n",
    "    \n",
    "    \n",
    "    pred = mlr(X_train, X_test)\n",
    "    # implement mlr\n",
    "  )\n",
    "    \n",
    "    # print error\n",
    "\n",
    "if __name__ == '__main__':\n",
    "    main()"
   ]
  },
  {
   "cell_type": "code",
   "execution_count": null,
   "id": "2751e98f-8f47-4cbf-83d5-ed5c5608516c",
   "metadata": {},
   "outputs": [],
   "source": []
  },
  {
   "cell_type": "code",
   "execution_count": null,
   "id": "48ac69c9-35fd-405d-86ca-7534c54583ba",
   "metadata": {},
   "outputs": [],
   "source": []
  }
 ],
 "metadata": {
  "kernelspec": {
   "display_name": "Python 3 (ipykernel)",
   "language": "python",
   "name": "python3"
  },
  "language_info": {
   "codemirror_mode": {
    "name": "ipython",
    "version": 3
   },
   "file_extension": ".py",
   "mimetype": "text/x-python",
   "name": "python",
   "nbconvert_exporter": "python",
   "pygments_lexer": "ipython3",
   "version": "3.9.12"
  }
 },
 "nbformat": 4,
 "nbformat_minor": 5
}
