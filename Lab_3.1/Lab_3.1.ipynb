{
 "cells": [
  {
   "cell_type": "code",
   "execution_count": 1,
   "id": "1d5bbfc7-568e-4d2e-b4ba-8dd45b1d0e41",
   "metadata": {},
   "outputs": [
    {
     "data": {
      "text/html": [
       "<div>\n",
       "<style scoped>\n",
       "    .dataframe tbody tr th:only-of-type {\n",
       "        vertical-align: middle;\n",
       "    }\n",
       "\n",
       "    .dataframe tbody tr th {\n",
       "        vertical-align: top;\n",
       "    }\n",
       "\n",
       "    .dataframe thead th {\n",
       "        text-align: right;\n",
       "    }\n",
       "</style>\n",
       "<table border=\"1\" class=\"dataframe\">\n",
       "  <thead>\n",
       "    <tr style=\"text-align: right;\">\n",
       "      <th></th>\n",
       "      <th>Date</th>\n",
       "      <th>Time</th>\n",
       "      <th>CO(GT)</th>\n",
       "      <th>PT08.S1(CO)</th>\n",
       "      <th>NMHC(GT)</th>\n",
       "      <th>C6H6(GT)</th>\n",
       "      <th>PT08.S2(NMHC)</th>\n",
       "      <th>NOx(GT)</th>\n",
       "      <th>PT08.S3(NOx)</th>\n",
       "      <th>NO2(GT)</th>\n",
       "      <th>PT08.S4(NO2)</th>\n",
       "      <th>PT08.S5(O3)</th>\n",
       "      <th>T</th>\n",
       "      <th>RH</th>\n",
       "      <th>AH</th>\n",
       "      <th>Unnamed: 15</th>\n",
       "      <th>Unnamed: 16</th>\n",
       "    </tr>\n",
       "  </thead>\n",
       "  <tbody>\n",
       "    <tr>\n",
       "      <th>0</th>\n",
       "      <td>10/03/2004</td>\n",
       "      <td>18.00.00</td>\n",
       "      <td>2,6</td>\n",
       "      <td>1360.0</td>\n",
       "      <td>150.0</td>\n",
       "      <td>11,9</td>\n",
       "      <td>1046.0</td>\n",
       "      <td>166.0</td>\n",
       "      <td>1056.0</td>\n",
       "      <td>113.0</td>\n",
       "      <td>1692.0</td>\n",
       "      <td>1268.0</td>\n",
       "      <td>13,6</td>\n",
       "      <td>48,9</td>\n",
       "      <td>0,7578</td>\n",
       "      <td>NaN</td>\n",
       "      <td>NaN</td>\n",
       "    </tr>\n",
       "    <tr>\n",
       "      <th>1</th>\n",
       "      <td>10/03/2004</td>\n",
       "      <td>19.00.00</td>\n",
       "      <td>2</td>\n",
       "      <td>1292.0</td>\n",
       "      <td>112.0</td>\n",
       "      <td>9,4</td>\n",
       "      <td>955.0</td>\n",
       "      <td>103.0</td>\n",
       "      <td>1174.0</td>\n",
       "      <td>92.0</td>\n",
       "      <td>1559.0</td>\n",
       "      <td>972.0</td>\n",
       "      <td>13,3</td>\n",
       "      <td>47,7</td>\n",
       "      <td>0,7255</td>\n",
       "      <td>NaN</td>\n",
       "      <td>NaN</td>\n",
       "    </tr>\n",
       "    <tr>\n",
       "      <th>2</th>\n",
       "      <td>10/03/2004</td>\n",
       "      <td>20.00.00</td>\n",
       "      <td>2,2</td>\n",
       "      <td>1402.0</td>\n",
       "      <td>88.0</td>\n",
       "      <td>9,0</td>\n",
       "      <td>939.0</td>\n",
       "      <td>131.0</td>\n",
       "      <td>1140.0</td>\n",
       "      <td>114.0</td>\n",
       "      <td>1555.0</td>\n",
       "      <td>1074.0</td>\n",
       "      <td>11,9</td>\n",
       "      <td>54,0</td>\n",
       "      <td>0,7502</td>\n",
       "      <td>NaN</td>\n",
       "      <td>NaN</td>\n",
       "    </tr>\n",
       "    <tr>\n",
       "      <th>3</th>\n",
       "      <td>10/03/2004</td>\n",
       "      <td>21.00.00</td>\n",
       "      <td>2,2</td>\n",
       "      <td>1376.0</td>\n",
       "      <td>80.0</td>\n",
       "      <td>9,2</td>\n",
       "      <td>948.0</td>\n",
       "      <td>172.0</td>\n",
       "      <td>1092.0</td>\n",
       "      <td>122.0</td>\n",
       "      <td>1584.0</td>\n",
       "      <td>1203.0</td>\n",
       "      <td>11,0</td>\n",
       "      <td>60,0</td>\n",
       "      <td>0,7867</td>\n",
       "      <td>NaN</td>\n",
       "      <td>NaN</td>\n",
       "    </tr>\n",
       "    <tr>\n",
       "      <th>4</th>\n",
       "      <td>10/03/2004</td>\n",
       "      <td>22.00.00</td>\n",
       "      <td>1,6</td>\n",
       "      <td>1272.0</td>\n",
       "      <td>51.0</td>\n",
       "      <td>6,5</td>\n",
       "      <td>836.0</td>\n",
       "      <td>131.0</td>\n",
       "      <td>1205.0</td>\n",
       "      <td>116.0</td>\n",
       "      <td>1490.0</td>\n",
       "      <td>1110.0</td>\n",
       "      <td>11,2</td>\n",
       "      <td>59,6</td>\n",
       "      <td>0,7888</td>\n",
       "      <td>NaN</td>\n",
       "      <td>NaN</td>\n",
       "    </tr>\n",
       "  </tbody>\n",
       "</table>\n",
       "</div>"
      ],
      "text/plain": [
       "         Date      Time CO(GT)  PT08.S1(CO)  NMHC(GT) C6H6(GT)  PT08.S2(NMHC)  \\\n",
       "0  10/03/2004  18.00.00    2,6       1360.0     150.0     11,9         1046.0   \n",
       "1  10/03/2004  19.00.00      2       1292.0     112.0      9,4          955.0   \n",
       "2  10/03/2004  20.00.00    2,2       1402.0      88.0      9,0          939.0   \n",
       "3  10/03/2004  21.00.00    2,2       1376.0      80.0      9,2          948.0   \n",
       "4  10/03/2004  22.00.00    1,6       1272.0      51.0      6,5          836.0   \n",
       "\n",
       "   NOx(GT)  PT08.S3(NOx)  NO2(GT)  PT08.S4(NO2)  PT08.S5(O3)     T    RH  \\\n",
       "0    166.0        1056.0    113.0        1692.0       1268.0  13,6  48,9   \n",
       "1    103.0        1174.0     92.0        1559.0        972.0  13,3  47,7   \n",
       "2    131.0        1140.0    114.0        1555.0       1074.0  11,9  54,0   \n",
       "3    172.0        1092.0    122.0        1584.0       1203.0  11,0  60,0   \n",
       "4    131.0        1205.0    116.0        1490.0       1110.0  11,2  59,6   \n",
       "\n",
       "       AH  Unnamed: 15  Unnamed: 16  \n",
       "0  0,7578          NaN          NaN  \n",
       "1  0,7255          NaN          NaN  \n",
       "2  0,7502          NaN          NaN  \n",
       "3  0,7867          NaN          NaN  \n",
       "4  0,7888          NaN          NaN  "
      ]
     },
     "execution_count": 1,
     "metadata": {},
     "output_type": "execute_result"
    }
   ],
   "source": [
    "import pandas as pd\n",
    "import numpy as np\n",
    "import matplotlib.pyplot as plt\n",
    "import seaborn as sns\n",
    "from sklearn.model_selection import train_test_split\n",
    "from sklearn.linear_model import LinearRegression\n",
    "\n",
    "\n",
    "# 1. Load dataset into Pandas Data Frame (5)\n",
    "data = pd.read_csv('AirQualityUCI.csv', sep=';')\n",
    "\n",
    "# 2. Display the entries in data (5)\n",
    "data.head()"
   ]
  },
  {
   "cell_type": "code",
   "execution_count": 2,
   "id": "a1c03943-40cb-45af-873b-7f74399ff1b2",
   "metadata": {},
   "outputs": [
    {
     "name": "stdout",
     "output_type": "stream",
     "text": [
      "(9471, 17)\n"
     ]
    }
   ],
   "source": [
    "# 3. Check the shape (5)\n",
    "print(data.shape)"
   ]
  },
  {
   "cell_type": "code",
   "execution_count": 3,
   "id": "f868ccf4-0f8c-4f39-a3a3-0a773b1001c8",
   "metadata": {},
   "outputs": [
    {
     "name": "stdout",
     "output_type": "stream",
     "text": [
      "Index(['Date', 'Time', 'CO(GT)', 'PT08.S1(CO)', 'NMHC(GT)', 'C6H6(GT)',\n",
      "       'PT08.S2(NMHC)', 'NOx(GT)', 'PT08.S3(NOx)', 'NO2(GT)', 'PT08.S4(NO2)',\n",
      "       'PT08.S5(O3)', 'T', 'RH', 'AH', 'Unnamed: 15', 'Unnamed: 16'],\n",
      "      dtype='object')\n"
     ]
    }
   ],
   "source": [
    "# 4. Fetch the column name (5)\n",
    "print(data.columns)"
   ]
  },
  {
   "cell_type": "code",
   "execution_count": 4,
   "id": "50e3629f-ec1a-48eb-b236-3fbebc2b5e6d",
   "metadata": {},
   "outputs": [
    {
     "name": "stdout",
     "output_type": "stream",
     "text": [
      "Date              114\n",
      "Time              114\n",
      "CO(GT)            114\n",
      "PT08.S1(CO)       114\n",
      "NMHC(GT)          114\n",
      "C6H6(GT)          114\n",
      "PT08.S2(NMHC)     114\n",
      "NOx(GT)           114\n",
      "PT08.S3(NOx)      114\n",
      "NO2(GT)           114\n",
      "PT08.S4(NO2)      114\n",
      "PT08.S5(O3)       114\n",
      "T                 114\n",
      "RH                114\n",
      "AH                114\n",
      "Unnamed: 15      9471\n",
      "Unnamed: 16      9471\n",
      "dtype: int64\n"
     ]
    }
   ],
   "source": [
    "# 5. Check whether data contains missing value or not. if require, pre-process the data. (15)\n",
    "print(data.isnull().sum())"
   ]
  },
  {
   "cell_type": "code",
   "execution_count": 5,
   "id": "49e2d174-e50d-4745-8f7e-74a251a9da89",
   "metadata": {},
   "outputs": [],
   "source": [
    "# remove none values from the data\n",
    "data = data[data['RH'].notna()]"
   ]
  },
  {
   "cell_type": "code",
   "execution_count": 6,
   "id": "7eb1a27b-22c4-4a9c-bc9e-454809086862",
   "metadata": {},
   "outputs": [],
   "source": [
    "# typecaste the RH column to float\n",
    "data['RH'] = data['RH'].str.replace(',', '')\n",
    "data['RH'] = data['RH'].astype(float)\n",
    "\n",
    "# typecaste the AH column to float\n",
    "data['AH'] = data['AH'].str.replace(',', '')\n",
    "data['AH'] = data['AH'].astype(float)"
   ]
  },
  {
   "cell_type": "code",
   "execution_count": null,
   "id": "a6f286aa-a217-4dfa-b059-ae041c9f131b",
   "metadata": {},
   "outputs": [],
   "source": []
  },
  {
   "cell_type": "markdown",
   "id": "393c91e9-079a-431a-b38c-273725ca5508",
   "metadata": {},
   "source": [
    "### 80:20"
   ]
  },
  {
   "cell_type": "code",
   "execution_count": 7,
   "id": "b4ee6b0c-f9a8-4273-b9c5-9aa8b4b4c691",
   "metadata": {},
   "outputs": [
    {
     "name": "stdout",
     "output_type": "stream",
     "text": [
      "The equation of the line is Y =  [[8.26811219]] X +  [6000.39227289]\n"
     ]
    }
   ],
   "source": [
    "X = data['RH'].values.reshape(-1, 1)\n",
    "Y = data['AH'].values.reshape(-1, 1)\n",
    "X_train, X_test, Y_train, Y_test = train_test_split(X, Y, test_size=0.3, random_state=0)\n",
    "\n",
    "\n",
    "regressor = LinearRegression()\n",
    "regressor.fit(X_train, Y_train)\n",
    "\n",
    "print(\"The equation of the line is Y = \", regressor.coef_, \"X + \", regressor.intercept_)"
   ]
  },
  {
   "cell_type": "code",
   "execution_count": 8,
   "id": "47055a39-2dee-41cb-b971-a5ac6ef57a17",
   "metadata": {},
   "outputs": [
    {
     "name": "stdout",
     "output_type": "stream",
     "text": [
      "Mean squared error: 17029811.54\n",
      "Variance score: 0.15\n"
     ]
    },
    {
     "data": {
      "image/png": "[encoded data removed]",
      "text/plain": [
       "<Figure size 432x288 with 1 Axes>"
      ]
     },
     "metadata": {
      "needs_background": "light"
     },
     "output_type": "display_data"
    }
   ],
   "source": [
    "# 6. Perform the prediction on the test dataset. (10)\n",
    "Y_pred = regressor.predict(X_test)\n",
    "\n",
    "# 7. Check the performance of the model on test dataset by Calculating the ‘Mean Squared Error' (MSE) and R2-Score (Hint: sklearn.metrics.mean_squared_error function) (10)\n",
    "from sklearn.metrics import mean_squared_error, r2_score\n",
    "print(\"Mean squared error: %.2f\" % mean_squared_error(Y_test, Y_pred))\n",
    "print('Variance score: %.2f' % r2_score(Y_test, Y_pred))\n",
    "\n",
    "# 8. Plot the regression line for test dataset (i.e., Y_pred vs Y_actual) (Hint: Use scatter plot and line plot of Matplotlib Library) (10)\n",
    "plt.scatter(X_test, Y_test,  color='black')\n",
    "plt.plot(X_test, Y_pred, color='blue', linewidth=3)\n",
    "plt.show()"
   ]
  },
  {
   "cell_type": "markdown",
   "id": "309e409e-cece-4794-81de-17898602f8af",
   "metadata": {},
   "source": [
    "### 70:30"
   ]
  },
  {
   "cell_type": "code",
   "execution_count": 9,
   "id": "b22eea0c-2930-44a5-bf18-94e10d1f7d62",
   "metadata": {},
   "outputs": [
    {
     "name": "stdout",
     "output_type": "stream",
     "text": [
      "The equation of the line is Y =  [[8.2056072]] X +  [6027.4571956]\n"
     ]
    }
   ],
   "source": [
    "X = data['RH'].values.reshape(-1, 1)\n",
    "Y = data['AH'].values.reshape(-1, 1)\n",
    "X_train, X_test, Y_train, Y_test = train_test_split(X, Y, test_size=0.2, random_state=0)\n",
    "\n",
    "\n",
    "regressor = LinearRegression()\n",
    "regressor.fit(X_train, Y_train)\n",
    "\n",
    "print(\"The equation of the line is Y = \", regressor.coef_, \"X + \", regressor.intercept_)"
   ]
  },
  {
   "cell_type": "code",
   "execution_count": 10,
   "id": "16e10167-8ae4-4000-9662-5f9d68af3195",
   "metadata": {},
   "outputs": [
    {
     "name": "stdout",
     "output_type": "stream",
     "text": [
      "Mean squared error: 17391935.91\n",
      "Variance score: 0.16\n"
     ]
    },
    {
     "data": {
      "image/png": "[encoded data removed]",
      "text/plain": [
       "<Figure size 432x288 with 1 Axes>"
      ]
     },
     "metadata": {
      "needs_background": "light"
     },
     "output_type": "display_data"
    }
   ],
   "source": [
    "# 6. Perform the prediction on the test dataset. (10)\n",
    "Y_pred = regressor.predict(X_test)\n",
    "\n",
    "# 7. Check the performance of the model on test dataset by Calculating the ‘Mean Squared Error' (MSE) and R2-Score (Hint: sklearn.metrics.mean_squared_error function) (10)\n",
    "from sklearn.metrics import mean_squared_error, r2_score\n",
    "print(\"Mean squared error: %.2f\" % mean_squared_error(Y_test, Y_pred))\n",
    "print('Variance score: %.2f' % r2_score(Y_test, Y_pred))\n",
    "\n",
    "# 8. Plot the regression line for test dataset (i.e., Y_pred vs Y_actual) (Hint: Use scatter plot and line plot of Matplotlib Library) (10)\n",
    "plt.scatter(X_test, Y_test,  color='black')\n",
    "plt.plot(X_test, Y_pred, color='blue', linewidth=3)\n",
    "plt.show()"
   ]
  },
  {
   "cell_type": "code",
   "execution_count": null,
   "id": "7b1ad3d1-bc7b-40ed-bcaa-05cdf053caf8",
   "metadata": {},
   "outputs": [],
   "source": []
  },
  {
   "cell_type": "code",
   "execution_count": 11,
   "id": "c86621c6-62f8-4f4d-bb44-830da60c38e1",
   "metadata": {},
   "outputs": [],
   "source": [
    "# 14"
   ]
  },
  {
   "cell_type": "code",
   "execution_count": 12,
   "id": "ae526939-2059-4dfa-917b-923b9e7c48e2",
   "metadata": {},
   "outputs": [
    {
     "name": "stdout",
     "output_type": "stream",
     "text": [
      "M of the line is [[0.00254709]] and C of the line is [9856.15581312]\n",
      "The equation of the line is Y =  [[0.00254709]] X +  [9856.15581312]\n",
      "Mean squared error: 20101209.04\n",
      "Variance score: -0.00\n"
     ]
    },
    {
     "data": {
      "image/png": "[encoded data removed]",
      "text/plain": [
       "<Figure size 432x288 with 1 Axes>"
      ]
     },
     "metadata": {
      "needs_background": "light"
     },
     "output_type": "display_data"
    }
   ],
   "source": [
    "try:\n",
    "    data = data[data['CO(GT)'].notna()]\n",
    "    data['CO(GT)'] = data['CO(GT)'].str.replace(',', '')\n",
    "    data['CO(GT)'] = data['CO(GT)'].astype(float)\n",
    "    X = data['CO(GT)'].values.reshape(-1, 1)\n",
    "\n",
    "    X_train, X_test, Y_train, Y_test = train_test_split(X, Y, test_size=0.3, random_state=0)\n",
    "\n",
    "    regressor = LinearRegression()\n",
    "    regressor.fit(X_train, Y_train)\n",
    "\n",
    "    print(\"M of the line is\", regressor.coef_ , \"and C of the line is\", regressor.intercept_)\n",
    "    print(\"The equation of the line is Y = \", regressor.coef_, \"X + \", regressor.intercept_)\n",
    "    Y_pred = regressor.predict(X_test)\n",
    "\n",
    "    print(\"Mean squared error: %.2f\" % mean_squared_error(Y_test, Y_pred))\n",
    "    print('Variance score: %.2f' % r2_score(Y_test, Y_pred))\n",
    "\n",
    "    plt.scatter(X_test, Y_test,  color='black')\n",
    "    plt.plot(X_test, Y_pred, color='blue', linewidth=3)\n",
    "    plt.show()\n",
    "except Exception as e:\n",
    "    print(e)"
   ]
  },
  {
   "cell_type": "code",
   "execution_count": 13,
   "id": "ff6184b2-90d6-491d-b93c-7302707d1bd8",
   "metadata": {},
   "outputs": [
    {
     "name": "stdout",
     "output_type": "stream",
     "text": [
      "M of the line is [[5.81696085]] and C of the line is [3756.78468964]\n",
      "The equation of the line is Y =  [[5.81696085]] X +  [3756.78468964]\n",
      "Mean squared error: 16835287.77\n",
      "Variance score: 0.16\n"
     ]
    },
    {
     "data": {
      "image/png": "[encoded data removed]",
      "text/plain": [
       "<Figure size 432x288 with 1 Axes>"
      ]
     },
     "metadata": {
      "needs_background": "light"
     },
     "output_type": "display_data"
    }
   ],
   "source": [
    "try:\n",
    "    data = data[data['PT08.S1(CO)'].notna()]\n",
    "    data['PT08.S1(CO)'] = data['PT08.S1(CO)'].replace(',', '')\n",
    "    data['PT08.S1(CO)'] = data['PT08.S1(CO)'].astype(float)\n",
    "    X = data['PT08.S1(CO)'].values.reshape(-1, 1)\n",
    "\n",
    "    X_train, X_test, Y_train, Y_test = train_test_split(X, Y, test_size=0.3, random_state=0)\n",
    "\n",
    "    regressor = LinearRegression()\n",
    "    regressor.fit(X_train, Y_train)\n",
    "\n",
    "    print(\"M of the line is\", regressor.coef_ , \"and C of the line is\", regressor.intercept_)\n",
    "    print(\"The equation of the line is Y = \", regressor.coef_, \"X + \", regressor.intercept_)\n",
    "    Y_pred = regressor.predict(X_test)\n",
    "\n",
    "    print(\"Mean squared error: %.2f\" % mean_squared_error(Y_test, Y_pred))\n",
    "    print('Variance score: %.2f' % r2_score(Y_test, Y_pred))\n",
    "\n",
    "    plt.scatter(X_test, Y_test,  color='black')\n",
    "    plt.plot(X_test, Y_pred, color='blue', linewidth=3)\n",
    "    plt.show()\n",
    "except Exception as e:\n",
    "    print(e)"
   ]
  },
  {
   "cell_type": "code",
   "execution_count": 14,
   "id": "5ac33bc0-a072-4fc0-92ea-023dec3c05d9",
   "metadata": {},
   "outputs": [
    {
     "name": "stdout",
     "output_type": "stream",
     "text": [
      "M of the line is [[-3.37331598]] and C of the line is [9321.30526697]\n",
      "The equation of the line is Y =  [[-3.37331598]] X +  [9321.30526697]\n",
      "Mean squared error: 19937928.37\n",
      "Variance score: 0.01\n"
     ]
    },
    {
     "data": {
      "image/png": "[encoded data removed]",
      "text/plain": [
       "<Figure size 432x288 with 1 Axes>"
      ]
     },
     "metadata": {
      "needs_background": "light"
     },
     "output_type": "display_data"
    }
   ],
   "source": [
    "try:\n",
    "    data = data[data['NMHC(GT)'].notna()]\n",
    "    data['NMHC(GT)'] = data['NMHC(GT)'].replace(',', '')\n",
    "    data['NMHC(GT)'] = data['NMHC(GT)'].astype(float)\n",
    "    X = data['NMHC(GT)'].values.reshape(-1, 1)\n",
    "\n",
    "    X_train, X_test, Y_train, Y_test = train_test_split(X, Y, test_size=0.3, random_state=0)\n",
    "\n",
    "    regressor = LinearRegression()\n",
    "    regressor.fit(X_train, Y_train)\n",
    "\n",
    "    print(\"M of the line is\", regressor.coef_ , \"and C of the line is\", regressor.intercept_)\n",
    "    print(\"The equation of the line is Y = \", regressor.coef_, \"X + \", regressor.intercept_)\n",
    "    Y_pred = regressor.predict(X_test)\n",
    "\n",
    "    print(\"Mean squared error: %.2f\" % mean_squared_error(Y_test, Y_pred))\n",
    "    print('Variance score: %.2f' % r2_score(Y_test, Y_pred))\n",
    "\n",
    "    plt.scatter(X_test, Y_test,  color='black')\n",
    "    plt.plot(X_test, Y_pred, color='blue', linewidth=3)\n",
    "    plt.show()\n",
    "except Exception as e:\n",
    "    print(e)"
   ]
  },
  {
   "cell_type": "code",
   "execution_count": 15,
   "id": "52f9043d-1972-437b-b9b8-54c127ea9922",
   "metadata": {},
   "outputs": [
    {
     "data": {
      "text/plain": [
       "'\\nMean squared error: 20101209.04\\nMean squared error: 16835287.77\\nMean squared error: 19937928.37\\n'"
      ]
     },
     "execution_count": 15,
     "metadata": {},
     "output_type": "execute_result"
    }
   ],
   "source": [
    "\"\"\"\n",
    "Mean squared error: 20101209.04\n",
    "Mean squared error: 16835287.77\n",
    "Mean squared error: 19937928.37\n",
    "\"\"\""
   ]
  },
  {
   "cell_type": "code",
   "execution_count": null,
   "id": "a09931bf-6176-41bc-806c-864da6b5634c",
   "metadata": {},
   "outputs": [],
   "source": []
  }
 ],
 "metadata": {
  "kernelspec": {
   "display_name": "Python 3 (ipykernel)",
   "language": "python",
   "name": "python3"
  },
  "language_info": {
   "codemirror_mode": {
    "name": "ipython",
    "version": 3
   },
   "file_extension": ".py",
   "mimetype": "text/x-python",
   "name": "python",
   "nbconvert_exporter": "python",
   "pygments_lexer": "ipython3",
   "version": "3.9.12"
  },
  "vscode": {
   "interpreter": {
    "hash": "ead1b95f633dc9c51826328e1846203f51a198c6fb5f2884a80417ba131d4e82"
   }
  }
 },
 "nbformat": 4,
 "nbformat_minor": 5
}
