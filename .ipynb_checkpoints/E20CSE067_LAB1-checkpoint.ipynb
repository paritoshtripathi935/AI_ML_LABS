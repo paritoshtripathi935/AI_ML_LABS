{
 "cells": [
  {
   "cell_type": "code",
   "execution_count": 1,
   "id": "55382e82-049e-4769-8f00-adeb2aab67f9",
   "metadata": {},
   "outputs": [],
   "source": [
    "import numpy as np\n",
    "# Paritosh Tripathi\n",
    "# E20cse067"
   ]
  },
  {
   "cell_type": "markdown",
   "id": "8289c94c-3920-4518-9a55-78869c322a82",
   "metadata": {},
   "source": [
    "# 1. Creating NumPy arrays (10)"
   ]
  },
  {
   "cell_type": "code",
   "execution_count": 2,
   "id": "7b7cda11-4dc6-46af-b10a-8f5a682b2cdf",
   "metadata": {},
   "outputs": [
    {
     "name": "stdout",
     "output_type": "stream",
     "text": [
      "1.21.5\n"
     ]
    }
   ],
   "source": [
    "#A Check the version of NumPy and create 1D, 2D arrays\n",
    "print(np.__version__)\n",
    "array_D1 = np.array([1,2,3,4,5,6,7,8,9,10])\n",
    "array_D2 = np.array([[1,2,3,4,5,6,7,8,9,10],[11,12,13,14,15,16,17,18,19,20]])"
   ]
  },
  {
   "cell_type": "code",
   "execution_count": 3,
   "id": "793599fc-6ef5-478c-8ccc-0f6a88683950",
   "metadata": {},
   "outputs": [
    {
     "name": "stdout",
     "output_type": "stream",
     "text": [
      "Dtype of array_D1 is int64  shape of array is (10,)\n",
      "Dtype of array_D2 is int64  shape of array is (2, 10)\n"
     ]
    }
   ],
   "source": [
    "#B Check the data type and dimension of created arrays\n",
    "print(\"Dtype of array_D1 is\",array_D1.dtype,\" shape of array is\", array_D1.shape)\n",
    "print(\"Dtype of array_D2 is\",array_D2.dtype,\" shape of array is\", array_D2.shape)"
   ]
  },
  {
   "cell_type": "code",
   "execution_count": 4,
   "id": "bec8924c-2ec6-46d3-acc3-2a96ae9674fb",
   "metadata": {},
   "outputs": [
    {
     "name": "stdout",
     "output_type": "stream",
     "text": [
      "Size of array_D1 is 8\n",
      "Size of array_D2 is 8\n"
     ]
    }
   ],
   "source": [
    "#C Find the size of each element in the arrays. \n",
    "print(\"Size of array_D1 is\",array_D1.itemsize)\n",
    "print(\"Size of array_D2 is\",array_D2.itemsize)"
   ]
  },
  {
   "cell_type": "code",
   "execution_count": 5,
   "id": "9828c9d8-404c-4c9d-a317-64fd930e4049",
   "metadata": {},
   "outputs": [
    {
     "name": "stdout",
     "output_type": "stream",
     "text": [
      "Rows of array_D1 (10,)\n",
      "Rows of array_D2 2 and Columns are 10\n"
     ]
    }
   ],
   "source": [
    "#D Find the number of rows and columns of 2D array.\n",
    "rows_1 = array_D1.shape\n",
    "rows, columns = array_D2.shape\n",
    "print(\"Rows of array_D1\", rows_1)\n",
    "print(\"Rows of array_D2\", rows, \"and Columns are\", columns)\n"
   ]
  },
  {
   "cell_type": "code",
   "execution_count": 6,
   "id": "d0237d77-a72a-4c0f-8457-448624f56df1",
   "metadata": {},
   "outputs": [
    {
     "data": {
      "text/plain": [
       "array([[1, 2],\n",
       "       [3, 4],\n",
       "       [5, 6]])"
      ]
     },
     "execution_count": 6,
     "metadata": {},
     "output_type": "execute_result"
    }
   ],
   "source": [
    "#E An array of shape (2, 3) given, reshape the array into (3, 2).\n",
    "array_D3 = np.array([[1,2,3],\n",
    "                     [4,5,6]])\n",
    "array_D3.reshape(3,2)"
   ]
  },
  {
   "cell_type": "markdown",
   "id": "ca831e11-c87a-45a3-a96c-a47989cae688",
   "metadata": {},
   "source": [
    "# Slicing of arrays (10)"
   ]
  },
  {
   "cell_type": "code",
   "execution_count": 7,
   "id": "091d9e6b-8b4c-4970-8956-c5aaee8a6622",
   "metadata": {},
   "outputs": [
    {
     "name": "stdout",
     "output_type": "stream",
     "text": [
      "Slicing array_D1 [6 3 9]\n"
     ]
    }
   ],
   "source": [
    "# A 1D array is given as [4, 5, 6, 3, 9, 7]. Slice the array to get [6, 3, 9].\n",
    "array_D1 = np.array([4, 5, 6, 3, 9, 7])\n",
    "print(\"Slicing array_D1\", array_D1[2:5])"
   ]
  },
  {
   "cell_type": "code",
   "execution_count": 8,
   "id": "14cbc4ab-aa33-46ad-af8c-4386e235bf94",
   "metadata": {},
   "outputs": [
    {
     "name": "stdout",
     "output_type": "stream",
     "text": [
      "Slicing 2D array to get [[1 2]]\n"
     ]
    }
   ],
   "source": [
    "# A 2D array is given as [[1, 2, 3] [4, 5, 6]]. Slice the array to get [ [1, 2]].\n",
    "array_2D = np.array([[1, 2, 3], [4, 5, 6]])\n",
    "print(\"Slicing 2D array to get\", array_2D[0:1,0:2])"
   ]
  },
  {
   "cell_type": "markdown",
   "id": "ce38eec0-0de7-4634-960a-2ad4f7ad5531",
   "metadata": {},
   "source": [
    "# Join and splitting of NumPy Arrays (15)"
   ]
  },
  {
   "cell_type": "code",
   "execution_count": 9,
   "id": "a647f882-f58e-4329-b457-94a1fcf6642c",
   "metadata": {},
   "outputs": [
    {
     "name": "stdout",
     "output_type": "stream",
     "text": [
      "Concatenated array is [4 5 6 7 3 4 1]\n"
     ]
    }
   ],
   "source": [
    "# Concatenate two 1D arrays [4,5,6,7] and [3,4,1].\n",
    "array_D1 = np.array([4,5,6,7])\n",
    "array_D2 = np.array([3,4,1])\n",
    "array_D3 = np.concatenate((array_D1,array_D2))\n",
    "print(\"Concatenated array is\" ,array_D3)"
   ]
  },
  {
   "cell_type": "code",
   "execution_count": 10,
   "id": "c41c6347-356e-4de3-9c12-df816de2fdd3",
   "metadata": {},
   "outputs": [
    {
     "name": "stdout",
     "output_type": "stream",
     "text": [
      "Concatenated array is [[ 7  8  9]\n",
      " [10 11 12]\n",
      " [ 1  2  3]\n",
      " [ 4  5  6]]\n"
     ]
    }
   ],
   "source": [
    "# Perform concatenation of two 2D arrays in row-by-row manner\n",
    "array_1D = np.array([[1, 2, 3], [4, 5, 6]])\n",
    "array_2D = np.array([[7, 8, 9], [10, 11, 12]])\n",
    "array_D3 = np.concatenate((array_2D,array_1D),axis=0)\n",
    "print(\"Concatenated array is\", array_D3)"
   ]
  },
  {
   "cell_type": "code",
   "execution_count": 11,
   "id": "ec12bc51-e78e-455b-afc8-aa2155183392",
   "metadata": {},
   "outputs": [
    {
     "name": "stdout",
     "output_type": "stream",
     "text": [
      "[array([4, 5, 6]), array([ 3,  9, 12]), array([1, 2, 3])]\n"
     ]
    }
   ],
   "source": [
    "# Split the array [4, 5, 6, 3, 9, 12] into 3 sub-arrays.\n",
    "array_D1 = np.array([4, 5, 6, 3, 9, 12, 1, 2, 3])\n",
    "array_D1_split = np.split(array_D1, 3)\n",
    "print(array_D1_split)"
   ]
  },
  {
   "cell_type": "code",
   "execution_count": 12,
   "id": "dcadb05c-212f-43d2-bdde-d1ec04e19aa4",
   "metadata": {},
   "outputs": [
    {
     "name": "stdout",
     "output_type": "stream",
     "text": [
      "Split array_D2 into 3 sub-arrays [array([[ 1],\n",
      "       [ 4],\n",
      "       [ 7],\n",
      "       [10]]), array([[ 2],\n",
      "       [ 5],\n",
      "       [ 8],\n",
      "       [11]]), array([[ 3],\n",
      "       [ 6],\n",
      "       [ 9],\n",
      "       [12]])]\n"
     ]
    }
   ],
   "source": [
    "# Split the array the 2D array [[ 1, 2, 3] [ 4, 5, 6],[ 7, 8, 9],[10, 11, 12]] into 3 sub-arrays.\n",
    "array_D2 = np.array([[ 1, 2, 3],[ 4, 5, 6],[ 7, 8, 9],[10, 11, 12]])\n",
    "array_D2_split = np.split(array_D2,3,axis=1)\n",
    "print(\"Split array_D2 into 3 sub-arrays\", array_D2_split)"
   ]
  },
  {
   "cell_type": "markdown",
   "id": "ead50fb0-3f8d-4eb7-8423-e3f1d2ab3eba",
   "metadata": {},
   "source": [
    "# Searching elements in an array (10)"
   ]
  },
  {
   "cell_type": "code",
   "execution_count": 13,
   "id": "3cbbeb4d-f737-430a-b374-95c49ffb739b",
   "metadata": {},
   "outputs": [
    {
     "name": "stdout",
     "output_type": "stream",
     "text": [
      "Index of element 4 is (array([3, 5, 6]),)\n"
     ]
    }
   ],
   "source": [
    "# A Given an array [1, 2, 3, 4, 5, 4, 4]. Find the index of element 4\n",
    "array_D1 = np.array([1,2,3,4,5,4,4])\n",
    "print(\"Index of element 4 is\", np.where(array_D1 == 4))"
   ]
  },
  {
   "cell_type": "code",
   "execution_count": 14,
   "id": "dd78de4b-9762-4701-a7eb-8d2a939b8742",
   "metadata": {},
   "outputs": [
    {
     "name": "stdout",
     "output_type": "stream",
     "text": [
      "Index of element 5 is 5\n"
     ]
    }
   ],
   "source": [
    "#B Given a 2d array [[ 1, 2, 3],[ 4, 5, 6],[ 7, 8, 9],[10, 11, 12]]. Find the index of element 5.\n",
    "array_2d = np.array([[ 1, 2, 3],[ 4, 5, 6],[ 7, 8, 9],[10, 11, 12]])\n",
    "print(\"Index of element 5 is\", array_2d[1,1])"
   ]
  },
  {
   "cell_type": "code",
   "execution_count": 15,
   "id": "111075ef-7af6-4a20-85d7-920e5c4cd556",
   "metadata": {},
   "outputs": [
    {
     "name": "stdout",
     "output_type": "stream",
     "text": [
      "Odd elements are [2 4 6 8]\n",
      "Even elements are [1 3 5 7]\n"
     ]
    }
   ],
   "source": [
    "# Given an array [1, 2, 3, 4, 5, 6, 7, 8], find out the indices of odd elements and even elements.\n",
    "array_D1 = np.array([1,2,3,4,5,6,7,8])\n",
    "print(\"Odd elements are\", array_D1[1::2])\n",
    "print(\"Even elements are\", array_D1[::2])"
   ]
  },
  {
   "cell_type": "markdown",
   "id": "5984f4c1-712d-4b19-9a8c-bef357478b35",
   "metadata": {},
   "source": [
    "# Sorting of Arrays (10)"
   ]
  },
  {
   "cell_type": "code",
   "execution_count": 16,
   "id": "b198f740-38da-4c8a-b8ef-add64dba22e8",
   "metadata": {},
   "outputs": [
    {
     "name": "stdout",
     "output_type": "stream",
     "text": [
      "Sorted array_D1 in ascending order [ 1  2  5  6  7  9 10 36]\n",
      "Sorted array_D1 in descending order [36 10  9  7  6  5  2  1]\n"
     ]
    }
   ],
   "source": [
    "#Sort the elements of given 1D array [6, 5, 1, 2, 9, 10, 36, 7] in ascending and descendingorder.\n",
    "array_D1 = np.array([6, 5, 1, 2, 9, 10, 36, 7])\n",
    "print(\"Sorted array_D1 in ascending order\", np.sort(array_D1))\n",
    "print(\"Sorted array_D1 in descending order\", np.sort(array_D1)[::-1])"
   ]
  },
  {
   "cell_type": "code",
   "execution_count": 17,
   "id": "d343e477-4f37-4925-9eca-a95f0bd88be5",
   "metadata": {},
   "outputs": [
    {
     "name": "stdout",
     "output_type": "stream",
     "text": [
      "Sorted array_2D in ascending order [[ 3  5  7]\n",
      " [ 6  8 10]\n",
      " [-2  7 40]]\n",
      "Sorted array_2D in descending order [[-2  7 40]\n",
      " [ 6  8 10]\n",
      " [ 3  5  7]]\n"
     ]
    }
   ],
   "source": [
    "# Sort the elements of given 2D array [[5, 3, 7], [8, 10, 6], [40, -2, 7]] in ascending anddescending order.\n",
    "array_2D = np.array([[5, 3, 7], [8, 10, 6], [40, -2, 7]])\n",
    "print(\"Sorted array_2D in ascending order\", np.sort(array_2D))\n",
    "print(\"Sorted array_2D in descending order\", np.sort(array_2D)[::-1])"
   ]
  },
  {
   "cell_type": "markdown",
   "id": "4f330249-fc5c-42d6-b527-237fb36c15a8",
   "metadata": {},
   "source": [
    "# 6. Random number generation in NumPy arrays (15)"
   ]
  },
  {
   "cell_type": "code",
   "execution_count": 18,
   "id": "ba5e8774-bf37-4e23-bac9-f227260e8850",
   "metadata": {},
   "outputs": [
    {
     "name": "stdout",
     "output_type": "stream",
     "text": [
      "Random array_D1 is [17 14  3 18 18 13]\n"
     ]
    }
   ],
   "source": [
    "#A Generate a 1-D array containing 6 random integers from 0 to 20.\n",
    "array_D1 = np.random.randint(0,20,6)\n",
    "print(\"Random array_D1 is\", array_D1)"
   ]
  },
  {
   "cell_type": "code",
   "execution_count": 19,
   "id": "fd29351e-7b63-4341-a744-10d7adf41a7d",
   "metadata": {},
   "outputs": [
    {
     "name": "stdout",
     "output_type": "stream",
     "text": [
      "Random array_D1 is [0.62037072 0.3827047  0.21401953 0.32354947 0.89007701]\n"
     ]
    }
   ],
   "source": [
    "#B b) Generate a 1-D array containing 5 random floats.\n",
    "array_D1 = np.random.rand(5)\n",
    "print(\"Random array_D1 is\", array_D1)"
   ]
  },
  {
   "cell_type": "code",
   "execution_count": 20,
   "id": "9f847025-3d98-4c8c-9353-bb926f023dee",
   "metadata": {},
   "outputs": [
    {
     "name": "stdout",
     "output_type": "stream",
     "text": [
      "Generated array_D2 [[31  4 34 25 26]\n",
      " [38 33 44 31  2]\n",
      " [49 44  5 10 34]]\n"
     ]
    }
   ],
   "source": [
    "#C Generate a 2-D array with 3 rows, each row containing 5 random integers from 0 to 50.\n",
    "array_D2 = np.random.randint(0,50,(3,5))\n",
    "print(\"Generated array_D2\", array_D2)"
   ]
  },
  {
   "cell_type": "code",
   "execution_count": 21,
   "id": "6011d987-2738-4fba-83e6-dc68982693d5",
   "metadata": {},
   "outputs": [
    {
     "name": "stdout",
     "output_type": "stream",
     "text": [
      "Generated array_D1 is [[5 4 3 2 9]\n",
      " [9 7 4 3 9]\n",
      " [5 9 9 8 4]]\n"
     ]
    }
   ],
   "source": [
    "#D Generate a 2-D array with 3 rows, each row containing 5 random numbers.\n",
    "array_D1 = np.random.randint(1,10,(3,5))\n",
    "print(\"Generated array_D1 is\", array_D1)"
   ]
  },
  {
   "cell_type": "code",
   "execution_count": 22,
   "id": "8cc3d5a9-1e27-4702-865e-1b28eda18746",
   "metadata": {},
   "outputs": [
    {
     "name": "stdout",
     "output_type": "stream",
     "text": [
      "Shuffled array_D1 [ 6  2 36  5  1  7  9 10]\n"
     ]
    }
   ],
   "source": [
    "#E Given a 1-D array [6, 5, 1, 2, 9, 10, 36, 7]. Shuffle the elements of the array randomly.\n",
    "array_D1 = np.array([6, 5, 1, 2, 9, 10, 36, 7])\n",
    "np.random.shuffle(array_D1)\n",
    "print(\"Shuffled array_D1\", array_D1)"
   ]
  },
  {
   "cell_type": "code",
   "execution_count": 23,
   "id": "cb5a58cb-598e-419b-9cad-4d89cd9ad22a",
   "metadata": {},
   "outputs": [
    {
     "name": "stdout",
     "output_type": "stream",
     "text": [
      "Shuffled array_D2 [[10 11 12]\n",
      " [ 4  5  6]\n",
      " [ 1  2  3]\n",
      " [ 7  8  9]]\n"
     ]
    }
   ],
   "source": [
    "#F Given a 2-D array [[ 1, 2, 3] [ 4, 5, 6][ 7, 8, 9] [10, 11, 12]]. Shuffle the elements of the array randomly.\n",
    "array_D2 = np.array([[ 1, 2, 3],[ 4, 5, 6],[ 7, 8, 9],[10, 11, 12]])\n",
    "np.random.shuffle(array_D2)\n",
    "print(\"Shuffled array_D2\", array_D2)"
   ]
  },
  {
   "cell_type": "markdown",
   "id": "e5182a47-438a-4e8b-81cb-11be7d0cb20e",
   "metadata": {},
   "source": [
    "# Question 2"
   ]
  },
  {
   "cell_type": "code",
   "execution_count": 24,
   "id": "b0c4a2cc-ba46-407d-babe-08ac8079e401",
   "metadata": {},
   "outputs": [],
   "source": [
    "#1 Go to UCI machine learning repository and download the wine-quality dataset (red and/or white) from the link https://archive.ics.uci.edu/ml/datasets/Wine%2BQuality (5)\n",
    "import pandas as pd"
   ]
  },
  {
   "cell_type": "code",
   "execution_count": 25,
   "id": "29d47bee-1f7f-49c8-9933-01aea8f2143d",
   "metadata": {},
   "outputs": [
    {
     "data": {
      "text/plain": [
       "Index(['fixed acidity;\"volatile acidity\";\"citric acid\";\"residual sugar\";\"chlorides\";\"free sulfur dioxide\";\"total sulfur dioxide\";\"density\";\"pH\";\"sulphates\";\"alcohol\";\"quality\"'], dtype='object')"
      ]
     },
     "execution_count": 25,
     "metadata": {},
     "output_type": "execute_result"
    }
   ],
   "source": [
    "#  Read the dataset using read_csv() of pandas Lib and store it in variable wine_data (5)\n",
    "wine_data = pd.read_csv(\"winequality-red.csv\")\n",
    "wine_data.columns"
   ]
  },
  {
   "cell_type": "code",
   "execution_count": 26,
   "id": "e794b94f-baf3-4582-b2e8-e3f69ef948c8",
   "metadata": {},
   "outputs": [
    {
     "name": "stdout",
     "output_type": "stream",
     "text": [
      "<class 'numpy.ndarray'>\n"
     ]
    }
   ],
   "source": [
    "# Convert the wine_data into NumPy Array (5)\n",
    "wine_data = np.array(wine_data)\n",
    "print(type(wine_data))"
   ]
  },
  {
   "cell_type": "code",
   "execution_count": 27,
   "id": "a9f0384c-72af-44bc-a6de-4180bbcd1f76",
   "metadata": {},
   "outputs": [
    {
     "data": {
      "text/plain": [
       "(1599, 1)"
      ]
     },
     "execution_count": 27,
     "metadata": {},
     "output_type": "execute_result"
    }
   ],
   "source": [
    "# 4. Check the shape (5)\n",
    "wine_data.shape"
   ]
  },
  {
   "cell_type": "code",
   "execution_count": 28,
   "id": "c7a46199-34cb-4a93-8365-f14e20472e58",
   "metadata": {},
   "outputs": [
    {
     "name": "stdout",
     "output_type": "stream",
     "text": [
      "Shape of Y is (11, 1)\n",
      "Shape of X is (1599, 1)\n"
     ]
    }
   ],
   "source": [
    "# Slicing the matrix: From the matrix wine_data, create a new variable: (15)\n",
    "# a) Y, which contains the last column (quality of wine) of XY. Print its shape.\n",
    "# b) X, all the other columns except last from XY. Print its shape.\n",
    "Y = wine_data[:11]\n",
    "X = wine_data[:,0:11]\n",
    "print(\"Shape of Y is\", Y.shape)\n",
    "print(\"Shape of X is\", X.shape)"
   ]
  },
  {
   "cell_type": "code",
   "execution_count": 32,
   "id": "eeaeb657-3f5e-41d6-af6f-097a2a44d698",
   "metadata": {},
   "outputs": [
    {
     "name": "stdout",
     "output_type": "stream",
     "text": [
      "Mean for all columns in X is nan\n",
      "Mode of the last column, Y is ModeResult(mode=array(['6.7;0.46;0.24;1.7;0.077;18;34;0.9948;3.39;0.6;10.6;6'],\n",
      "      dtype=object), count=array([4]))\n",
      "division by zero\n"
     ]
    }
   ],
   "source": [
    "# Compute the following statistical values using NumPy in-built functions wherever possible. (15)\n",
    "# a) Mean for all columns in X.\n",
    "# b) Mode of the last column, Y (i.e., quality of wine)\n",
    "# c) Standard deviation for all columns in X.\n",
    "from scipy import stats as st\n",
    "print(\"Mean for all columns in X is\", np.mean(wine_data[:,:-1]))\n",
    "print(\"Mode of the last column, Y is\", st.mode(wine_data[:,-1]))\n",
    "try:\n",
    "    print(\"Standard deviation for all columns in X is\", np.std(wine_data[:,:-1]))\n",
    "except Exception as e:\n",
    "    print(e)"
   ]
  },
  {
   "cell_type": "code",
   "execution_count": null,
   "id": "b97eb555-56d1-42e1-80b9-0cca68c66f5b",
   "metadata": {},
   "outputs": [],
   "source": []
  }
 ],
 "metadata": {
  "kernelspec": {
   "display_name": "Python 3 (ipykernel)",
   "language": "python",
   "name": "python3"
  },
  "language_info": {
   "codemirror_mode": {
    "name": "ipython",
    "version": 3
   },
   "file_extension": ".py",
   "mimetype": "text/x-python",
   "name": "python",
   "nbconvert_exporter": "python",
   "pygments_lexer": "ipython3",
   "version": "3.9.12"
  }
 },
 "nbformat": 4,
 "nbformat_minor": 5
}
