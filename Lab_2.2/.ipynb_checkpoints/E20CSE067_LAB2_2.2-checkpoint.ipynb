{
 "cells": [
  {
   "cell_type": "code",
   "execution_count": 1,
   "id": "49645327-640a-4b14-b085-e1677780a11d",
   "metadata": {},
   "outputs": [],
   "source": [
    "# Paritosh Tripathi\n",
    "# E20CSE067"
   ]
  },
  {
   "cell_type": "code",
   "execution_count": 2,
   "id": "e181cdc3-252d-4ae2-b982-cf8165ea94e6",
   "metadata": {},
   "outputs": [],
   "source": [
    "# To implement Simple Linear regression model from scratch i.e., without using inbuilt library"
   ]
  },
  {
   "cell_type": "code",
   "execution_count": 3,
   "id": "41dfb812-a034-47f5-aaa3-1ad481118e4b",
   "metadata": {},
   "outputs": [],
   "source": [
    "import pandas as pd\n",
    "import numpy as np"
   ]
  },
  {
   "cell_type": "code",
   "execution_count": 4,
   "id": "63a12366-cde7-45d3-aba9-c24ddf84ed90",
   "metadata": {},
   "outputs": [],
   "source": [
    "df = pd.read_csv(\"headbrain.csv\")"
   ]
  },
  {
   "cell_type": "code",
   "execution_count": 5,
   "id": "169f0b6c-c536-4013-bd27-c71437babf89",
   "metadata": {},
   "outputs": [
    {
     "data": {
      "text/html": [
       "<div>\n",
       "<style scoped>\n",
       "    .dataframe tbody tr th:only-of-type {\n",
       "        vertical-align: middle;\n",
       "    }\n",
       "\n",
       "    .dataframe tbody tr th {\n",
       "        vertical-align: top;\n",
       "    }\n",
       "\n",
       "    .dataframe thead th {\n",
       "        text-align: right;\n",
       "    }\n",
       "</style>\n",
       "<table border=\"1\" class=\"dataframe\">\n",
       "  <thead>\n",
       "    <tr style=\"text-align: right;\">\n",
       "      <th></th>\n",
       "      <th>Gender</th>\n",
       "      <th>Age Range</th>\n",
       "      <th>Head Size(cm^3)</th>\n",
       "      <th>Brain Weight(grams)</th>\n",
       "    </tr>\n",
       "  </thead>\n",
       "  <tbody>\n",
       "    <tr>\n",
       "      <th>0</th>\n",
       "      <td>1</td>\n",
       "      <td>1</td>\n",
       "      <td>4512</td>\n",
       "      <td>1530</td>\n",
       "    </tr>\n",
       "    <tr>\n",
       "      <th>1</th>\n",
       "      <td>1</td>\n",
       "      <td>1</td>\n",
       "      <td>3738</td>\n",
       "      <td>1297</td>\n",
       "    </tr>\n",
       "    <tr>\n",
       "      <th>2</th>\n",
       "      <td>1</td>\n",
       "      <td>1</td>\n",
       "      <td>4261</td>\n",
       "      <td>1335</td>\n",
       "    </tr>\n",
       "    <tr>\n",
       "      <th>3</th>\n",
       "      <td>1</td>\n",
       "      <td>1</td>\n",
       "      <td>3777</td>\n",
       "      <td>1282</td>\n",
       "    </tr>\n",
       "    <tr>\n",
       "      <th>4</th>\n",
       "      <td>1</td>\n",
       "      <td>1</td>\n",
       "      <td>4177</td>\n",
       "      <td>1590</td>\n",
       "    </tr>\n",
       "  </tbody>\n",
       "</table>\n",
       "</div>"
      ],
      "text/plain": [
       "   Gender  Age Range  Head Size(cm^3)  Brain Weight(grams)\n",
       "0       1          1             4512                 1530\n",
       "1       1          1             3738                 1297\n",
       "2       1          1             4261                 1335\n",
       "3       1          1             3777                 1282\n",
       "4       1          1             4177                 1590"
      ]
     },
     "execution_count": 5,
     "metadata": {},
     "output_type": "execute_result"
    }
   ],
   "source": [
    "df.head()"
   ]
  },
  {
   "cell_type": "code",
   "execution_count": 6,
   "id": "99417c22-4dfd-46be-abcc-0ab56f39a09d",
   "metadata": {},
   "outputs": [
    {
     "data": {
      "text/plain": [
       "Index(['Gender', 'Age Range', 'Head Size(cm^3)', 'Brain Weight(grams)'], dtype='object')"
      ]
     },
     "execution_count": 6,
     "metadata": {},
     "output_type": "execute_result"
    }
   ],
   "source": [
    "df.columns"
   ]
  },
  {
   "cell_type": "code",
   "execution_count": 7,
   "id": "e8f1c6cb-1fde-4176-a9ce-cf73f5cfd801",
   "metadata": {},
   "outputs": [
    {
     "data": {
      "text/plain": [
       "array([1, 2])"
      ]
     },
     "execution_count": 7,
     "metadata": {},
     "output_type": "execute_result"
    }
   ],
   "source": [
    "df['Age Range'].unique()"
   ]
  },
  {
   "cell_type": "code",
   "execution_count": 8,
   "id": "77cfb772-e5a4-435f-966c-574839bf04cf",
   "metadata": {},
   "outputs": [],
   "source": [
    "XY = df.iloc[:,2:]"
   ]
  },
  {
   "cell_type": "code",
   "execution_count": 9,
   "id": "5dfc8f2b-9490-4000-9f02-9efe9949cd8b",
   "metadata": {},
   "outputs": [
    {
     "data": {
      "text/html": [
       "<div>\n",
       "<style scoped>\n",
       "    .dataframe tbody tr th:only-of-type {\n",
       "        vertical-align: middle;\n",
       "    }\n",
       "\n",
       "    .dataframe tbody tr th {\n",
       "        vertical-align: top;\n",
       "    }\n",
       "\n",
       "    .dataframe thead th {\n",
       "        text-align: right;\n",
       "    }\n",
       "</style>\n",
       "<table border=\"1\" class=\"dataframe\">\n",
       "  <thead>\n",
       "    <tr style=\"text-align: right;\">\n",
       "      <th></th>\n",
       "      <th>Head Size(cm^3)</th>\n",
       "      <th>Brain Weight(grams)</th>\n",
       "    </tr>\n",
       "  </thead>\n",
       "  <tbody>\n",
       "    <tr>\n",
       "      <th>count</th>\n",
       "      <td>237.000000</td>\n",
       "      <td>237.000000</td>\n",
       "    </tr>\n",
       "    <tr>\n",
       "      <th>mean</th>\n",
       "      <td>3633.991561</td>\n",
       "      <td>1282.873418</td>\n",
       "    </tr>\n",
       "    <tr>\n",
       "      <th>std</th>\n",
       "      <td>365.261422</td>\n",
       "      <td>120.340446</td>\n",
       "    </tr>\n",
       "    <tr>\n",
       "      <th>min</th>\n",
       "      <td>2720.000000</td>\n",
       "      <td>955.000000</td>\n",
       "    </tr>\n",
       "    <tr>\n",
       "      <th>25%</th>\n",
       "      <td>3389.000000</td>\n",
       "      <td>1207.000000</td>\n",
       "    </tr>\n",
       "    <tr>\n",
       "      <th>50%</th>\n",
       "      <td>3614.000000</td>\n",
       "      <td>1280.000000</td>\n",
       "    </tr>\n",
       "    <tr>\n",
       "      <th>75%</th>\n",
       "      <td>3876.000000</td>\n",
       "      <td>1350.000000</td>\n",
       "    </tr>\n",
       "    <tr>\n",
       "      <th>max</th>\n",
       "      <td>4747.000000</td>\n",
       "      <td>1635.000000</td>\n",
       "    </tr>\n",
       "  </tbody>\n",
       "</table>\n",
       "</div>"
      ],
      "text/plain": [
       "       Head Size(cm^3)  Brain Weight(grams)\n",
       "count       237.000000           237.000000\n",
       "mean       3633.991561          1282.873418\n",
       "std         365.261422           120.340446\n",
       "min        2720.000000           955.000000\n",
       "25%        3389.000000          1207.000000\n",
       "50%        3614.000000          1280.000000\n",
       "75%        3876.000000          1350.000000\n",
       "max        4747.000000          1635.000000"
      ]
     },
     "execution_count": 9,
     "metadata": {},
     "output_type": "execute_result"
    }
   ],
   "source": [
    "XY.describe()"
   ]
  },
  {
   "cell_type": "code",
   "execution_count": 10,
   "id": "bb863532-756f-4839-be63-e51af3705a04",
   "metadata": {},
   "outputs": [],
   "source": [
    "X = df['Head Size(cm^3)']\n",
    "Y = df['Brain Weight(grams)']"
   ]
  },
  {
   "cell_type": "code",
   "execution_count": null,
   "id": "b84318be-3455-4621-ab59-63273a92a3b3",
   "metadata": {},
   "outputs": [],
   "source": []
  },
  {
   "cell_type": "code",
   "execution_count": 11,
   "id": "a12bd1c6-3bc8-44da-b0ce-72e919536c5a",
   "metadata": {},
   "outputs": [
    {
     "name": "stdout",
     "output_type": "stream",
     "text": [
      "(237,)\n",
      "(237,)\n"
     ]
    }
   ],
   "source": [
    "print(X.shape)\n",
    "print(Y.shape)"
   ]
  },
  {
   "cell_type": "code",
   "execution_count": 12,
   "id": "e53b68c5-106d-4716-84c2-0fa1e8c013a9",
   "metadata": {},
   "outputs": [],
   "source": [
    "mean_x = np.mean(X)\n",
    "mean_y = np.mean(Y)"
   ]
  },
  {
   "cell_type": "code",
   "execution_count": 13,
   "id": "ac8aa29f-cfad-404e-bb19-1766f8a36aa3",
   "metadata": {},
   "outputs": [
    {
     "name": "stdout",
     "output_type": "stream",
     "text": [
      "3633.9915611814345\n",
      "1282.873417721519\n"
     ]
    }
   ],
   "source": [
    "print(mean_x)\n",
    "print(mean_y)"
   ]
  },
  {
   "cell_type": "code",
   "execution_count": 14,
   "id": "8e6cc147-231a-4b09-94ed-8d2673a3fc81",
   "metadata": {},
   "outputs": [
    {
     "name": "stdout",
     "output_type": "stream",
     "text": [
      "b1 =  0.2634293394893993\n",
      "b0 =  325.5734210494428\n",
      "RMSE =  72.1206213783709\n",
      "R2 =  0.639311719957\n",
      "Regression Equation: Y =  325.5734210494428  +  0.2634293394893993  * X\n",
      "1310.2722920608173\n"
     ]
    },
    {
     "data": {
      "image/png": "[encoded data removed]",
      "text/plain": [
       "<Figure size 432x288 with 1 Axes>"
      ]
     },
     "metadata": {
      "needs_background": "light"
     },
     "output_type": "display_data"
    }
   ],
   "source": [
    "\"\"\". Complete the following functions given in the provided Ipython Notebook to implement a\n",
    "Linear Regression model between X and Y (Y = b0 + b1*X). (60)\n",
    "• Write code to calculate the value of b1 and b0.\n",
    "• Write code to find the Regression line Y= b0 + b1*X.\n",
    "• Display the regression line with Scatter plot (Head Size(cm3\n",
    ") in X-axis and Brain Weight\n",
    "(grams) in Y-axis).\n",
    "• Write code to calculate the Root Mean Square Error (RMSE).\n",
    "• Calculate the amount of the variation in the output dependent attribute which is\n",
    "predictable from the input independent variable using R2 score\"\"\"\n",
    "\n",
    "mean_x = np.mean(X)\n",
    "mean_y = np.mean(Y)\n",
    "\n",
    "def calculate_b1(X, Y, mean_x, mean_y):\n",
    "    return np.sum((X - mean_x) * (Y - mean_y)) / np.sum((X - mean_x)**2)\n",
    "\n",
    "def calculate_b0(mean_x, mean_y, b1):\n",
    "    return mean_y - (b1 * mean_x)\n",
    "\n",
    "def calculate_y(b0, b1, X):\n",
    "    y = b0 + b1*X\n",
    "    return y\n",
    "\n",
    "def calculate_rmse(Y, y):\n",
    "    rmse = np.sqrt(np.sum((Y-y)**2)/len(Y))\n",
    "    return rmse\n",
    "\n",
    "def calculate_r2_score(Y, y):\n",
    "    r2 = 1 - np.sum((Y-y)**2)/np.sum((Y-np.mean(Y))**2)\n",
    "    return r2\n",
    "\n",
    "b1 = calculate_b1(X, Y, mean_x, mean_y)\n",
    "b0 = calculate_b0(mean_x, mean_y, b1)\n",
    "y = calculate_y(b0, b1, X)\n",
    "rmse = calculate_rmse(Y, y)\n",
    "r2 = calculate_r2_score(Y, y)\n",
    "\n",
    "print(\"b1 = \", b1)\n",
    "print(\"b0 = \", b0)\n",
    "print(\"RMSE = \", rmse)\n",
    "print(\"R2 = \", r2)\n",
    "print(\"Regression Equation: Y = \", b0, \" + \", b1, \" * X\")\n",
    "\n",
    "import matplotlib.pyplot as plt\n",
    "\n",
    "plt.scatter(X, Y, color = \"m\", marker = \"o\", s = 30)\n",
    "y_pred = b0 + b1*X\n",
    "print(y_pred[1])\n",
    "plt.plot(X, y_pred, color = \"g\")\n",
    "plt.xlabel('Head Size(cm^3)')\n",
    "plt.ylabel('Brain Weight(grams)')\n",
    "plt.show()"
   ]
  },
  {
   "cell_type": "code",
   "execution_count": 15,
   "id": "7a4cd3df-7eae-4cb9-b0f1-7af256498bca",
   "metadata": {},
   "outputs": [],
   "source": [
    "X = df['Gender']\n",
    "Y = df['Brain Weight(grams)']"
   ]
  },
  {
   "cell_type": "code",
   "execution_count": 16,
   "id": "42c8817d-3e59-4eee-9002-54481045f24a",
   "metadata": {},
   "outputs": [
    {
     "name": "stdout",
     "output_type": "stream",
     "text": [
      "b1 =  -112.71257788726275\n",
      "b0 =  1444.5707868424865\n",
      "RMSE =  106.29687591425888\n",
      "R2 =  0.2164727367696312\n",
      "Regression Equation: Y =  1444.5707868424865  +  -112.71257788726275  * X\n",
      "Equation of Regression is --> 1331.8582089552237\n"
     ]
    },
    {
     "data": {
      "image/png": "[encoded data removed]",
      "text/plain": [
       "<Figure size 432x288 with 1 Axes>"
      ]
     },
     "metadata": {
      "needs_background": "light"
     },
     "output_type": "display_data"
    }
   ],
   "source": [
    "\"\"\". Complete the following functions given in the provided Ipython Notebook to implement a\n",
    "Linear Regression model between X and Y (Y = b0 + b1*X). (60)\n",
    "• Write code to calculate the value of b1 and b0.\n",
    "• Write code to find the Regression line Y= b0 + b1*X.\n",
    "• Display the regression line with Scatter plot (Head Size(cm3\n",
    ") in X-axis and Brain Weight\n",
    "(grams) in Y-axis).\n",
    "• Write code to calculate the Root Mean Square Error (RMSE).\n",
    "• Calculate the amount of the variation in the output dependent attribute which is\n",
    "predictable from the input independent variable using R2 score\"\"\"\n",
    "\n",
    "mean_x = np.mean(X)\n",
    "mean_y = np.mean(Y)\n",
    "\n",
    "def calculate_b1(X, Y, mean_x, mean_y):\n",
    "    return np.sum((X - mean_x) * (Y - mean_y)) / np.sum((X - mean_x)**2)\n",
    "\n",
    "def calculate_b0(mean_x, mean_y, b1):\n",
    "    return mean_y - (b1 * mean_x)\n",
    "\n",
    "def calculate_y(b0, b1, X):\n",
    "    y = b0 + b1*X\n",
    "    return y\n",
    "\n",
    "def calculate_rmse(Y, y):\n",
    "    rmse = np.sqrt(np.sum((Y-y)**2)/len(Y))\n",
    "    return rmse\n",
    "\n",
    "def calculate_r2_score(Y, y):\n",
    "    r2 = 1 - np.sum((Y-y)**2)/np.sum((Y-np.mean(Y))**2)\n",
    "    return r2\n",
    "\n",
    "b1 = calculate_b1(X, Y, mean_x, mean_y)\n",
    "b0 = calculate_b0(mean_x, mean_y, b1)\n",
    "y = calculate_y(b0, b1, X)\n",
    "rmse = calculate_rmse(Y, y)\n",
    "r2 = calculate_r2_score(Y, y)\n",
    "\n",
    "print(\"b1 = \", b1)\n",
    "print(\"b0 = \", b0)\n",
    "print(\"RMSE = \", rmse)\n",
    "print(\"R2 = \", r2)\n",
    "print(\"Regression Equation: Y = \", b0, \" + \", b1, \" * X\")\n",
    "\n",
    "import matplotlib.pyplot as plt\n",
    "\n",
    "plt.scatter(X, Y, color = \"m\", marker = \"o\", s = 30)\n",
    "y_pred = b0 + b1*X\n",
    "print(\"Equation of Regression is -->\",y_pred[1])\n",
    "plt.plot(X, y_pred, color = \"g\")\n",
    "plt.xlabel('Head Size(cm^3)')\n",
    "plt.ylabel('Brain Weight(grams)')\n",
    "plt.show()"
   ]
  },
  {
   "cell_type": "code",
   "execution_count": 17,
   "id": "80b19473-8b30-49b9-ad44-98380ee15f08",
   "metadata": {},
   "outputs": [
    {
     "name": "stdout",
     "output_type": "stream",
     "text": [
      "b1 =  -40.799355762347886\n",
      "b0 =  1345.5357193987115\n",
      "RMSE =  118.34995754044303\n",
      "R2 =  0.028709090621702682\n",
      "Regression Equation: Y =  1345.5357193987115  +  -40.799355762347886  * X\n",
      "Equation of Regression is --> 1304.7363636363636\n"
     ]
    },
    {
     "data": {
      "image/png": "[encoded data removed]",
      "text/plain": [
       "<Figure size 432x288 with 1 Axes>"
      ]
     },
     "metadata": {
      "needs_background": "light"
     },
     "output_type": "display_data"
    }
   ],
   "source": [
    "\"\"\". Complete the following functions given in the provided Ipython Notebook to implement a\n",
    "Linear Regression model between X and Y (Y = b0 + b1*X). (60)\n",
    "• Write code to calculate the value of b1 and b0.\n",
    "• Write code to find the Regression line Y= b0 + b1*X.\n",
    "• Display the regression line with Scatter plot (Head Size(cm3\n",
    ") in X-axis and Brain Weight\n",
    "(grams) in Y-axis).\n",
    "• Write code to calculate the Root Mean Square Error (RMSE).\n",
    "• Calculate the amount of the variation in the output dependent attribute which is\n",
    "predictable from the input independent variable using R2 score\"\"\"\n",
    "\n",
    "X = df['Age Range']\n",
    "Y = df['Brain Weight(grams)']\n",
    "\n",
    "mean_x = np.mean(X)\n",
    "mean_y = np.mean(Y)\n",
    "\n",
    "def calculate_b1(X, Y, mean_x, mean_y):\n",
    "    return np.sum((X - mean_x) * (Y - mean_y)) / np.sum((X - mean_x)**2)\n",
    "\n",
    "def calculate_b0(mean_x, mean_y, b1):\n",
    "    return mean_y - (b1 * mean_x)\n",
    "\n",
    "def calculate_y(b0, b1, X):\n",
    "    y = b0 + b1*X\n",
    "    return y\n",
    "\n",
    "def calculate_rmse(Y, y):\n",
    "    rmse = np.sqrt(np.sum((Y-y)**2)/len(Y))\n",
    "    return rmse\n",
    "\n",
    "def calculate_r2_score(Y, y):\n",
    "    r2 = 1 - np.sum((Y-y)**2)/np.sum((Y-np.mean(Y))**2)\n",
    "    return r2\n",
    "\n",
    "b1 = calculate_b1(X, Y, mean_x, mean_y)\n",
    "b0 = calculate_b0(mean_x, mean_y, b1)\n",
    "y = calculate_y(b0, b1, X)\n",
    "rmse = calculate_rmse(Y, y)\n",
    "r2 = calculate_r2_score(Y, y)\n",
    "\n",
    "print(\"b1 = \", b1)\n",
    "print(\"b0 = \", b0)\n",
    "print(\"RMSE = \", rmse)\n",
    "print(\"R2 = \", r2)\n",
    "print(\"Regression Equation: Y = \", b0, \" + \", b1, \" * X\")\n",
    "\n",
    "import matplotlib.pyplot as plt\n",
    "\n",
    "plt.scatter(X, Y, color = \"m\", marker = \"o\", s = 30)\n",
    "y_pred = b0 + b1*X\n",
    "print(\"Equation of Regression is -->\",y_pred[1])\n",
    "plt.plot(X, y_pred, color = \"g\")\n",
    "plt.xlabel('Head Size(cm^3)')\n",
    "plt.ylabel('Brain Weight(grams)')\n",
    "plt.show()"
   ]
  },
  {
   "cell_type": "code",
   "execution_count": 18,
   "id": "b6b243e9-f722-45b5-a536-37471663c317",
   "metadata": {},
   "outputs": [
    {
     "ename": "ValueError",
     "evalue": "operands could not be broadcast together with shapes (237,3) (237,) ",
     "output_type": "error",
     "traceback": [
      "\u001b[0;31m---------------------------------------------------------------------------\u001b[0m",
      "\u001b[0;31mValueError\u001b[0m                                Traceback (most recent call last)",
      "Input \u001b[0;32mIn [18]\u001b[0m, in \u001b[0;36m<cell line: 27>\u001b[0;34m()\u001b[0m\n\u001b[1;32m     24\u001b[0m     r2 \u001b[38;5;241m=\u001b[39m \u001b[38;5;241m1\u001b[39m \u001b[38;5;241m-\u001b[39m np\u001b[38;5;241m.\u001b[39msum((Y\u001b[38;5;241m-\u001b[39my)\u001b[38;5;241m*\u001b[39m\u001b[38;5;241m*\u001b[39m\u001b[38;5;241m2\u001b[39m)\u001b[38;5;241m/\u001b[39mnp\u001b[38;5;241m.\u001b[39msum((Y\u001b[38;5;241m-\u001b[39mnp\u001b[38;5;241m.\u001b[39mmean(Y))\u001b[38;5;241m*\u001b[39m\u001b[38;5;241m*\u001b[39m\u001b[38;5;241m2\u001b[39m)\n\u001b[1;32m     25\u001b[0m     \u001b[38;5;28;01mreturn\u001b[39;00m r2\n\u001b[0;32m---> 27\u001b[0m b1 \u001b[38;5;241m=\u001b[39m \u001b[43mcalculate_b1\u001b[49m\u001b[43m(\u001b[49m\u001b[43mX\u001b[49m\u001b[43m,\u001b[49m\u001b[43m \u001b[49m\u001b[43mY\u001b[49m\u001b[43m,\u001b[49m\u001b[43m \u001b[49m\u001b[43mmean_x\u001b[49m\u001b[43m,\u001b[49m\u001b[43m \u001b[49m\u001b[43mmean_y\u001b[49m\u001b[43m)\u001b[49m\n\u001b[1;32m     28\u001b[0m b0 \u001b[38;5;241m=\u001b[39m calculate_b0(mean_x, mean_y, b1)\n\u001b[1;32m     29\u001b[0m y \u001b[38;5;241m=\u001b[39m calculate_y(b0, b1, X)\n",
      "Input \u001b[0;32mIn [18]\u001b[0m, in \u001b[0;36mcalculate_b1\u001b[0;34m(X, Y, mean_x, mean_y)\u001b[0m\n\u001b[1;32m      9\u001b[0m \u001b[38;5;28;01mdef\u001b[39;00m \u001b[38;5;21mcalculate_b1\u001b[39m(X, Y, mean_x, mean_y):\n\u001b[0;32m---> 10\u001b[0m     \u001b[38;5;28;01mreturn\u001b[39;00m np\u001b[38;5;241m.\u001b[39msum(\u001b[43m(\u001b[49m\u001b[43mX\u001b[49m\u001b[43m \u001b[49m\u001b[38;5;241;43m-\u001b[39;49m\u001b[43m \u001b[49m\u001b[43mmean_x\u001b[49m\u001b[43m)\u001b[49m\u001b[43m \u001b[49m\u001b[38;5;241;43m*\u001b[39;49m\u001b[43m \u001b[49m\u001b[43m(\u001b[49m\u001b[43mY\u001b[49m\u001b[43m \u001b[49m\u001b[38;5;241;43m-\u001b[39;49m\u001b[43m \u001b[49m\u001b[43mmean_y\u001b[49m\u001b[43m)\u001b[49m) \u001b[38;5;241m/\u001b[39m np\u001b[38;5;241m.\u001b[39msum((X \u001b[38;5;241m-\u001b[39m mean_x)\u001b[38;5;241m*\u001b[39m\u001b[38;5;241m*\u001b[39m\u001b[38;5;241m2\u001b[39m)\n",
      "\u001b[0;31mValueError\u001b[0m: operands could not be broadcast together with shapes (237,3) (237,) "
     ]
    }
   ],
   "source": [
    "# implement a multilinear regression model to predict the brain weight of a person using the head size ,age range and gender of the person from scratch.\n",
    "\n",
    "X = df.iloc[:, :-1].values\n",
    "Y = df.iloc[:, 1].values\n",
    "\n",
    "mean_x = np.mean(X)\n",
    "mean_y = np.mean(Y)\n",
    "\n",
    "def calculate_b1(X, Y, mean_x, mean_y):\n",
    "    return np.sum((X - mean_x) * (Y - mean_y)) / np.sum((X - mean_x)**2)\n",
    "\n",
    "def calculate_b0(mean_x, mean_y, b1):\n",
    "    return mean_y - (b1 * mean_x)\n",
    "\n",
    "def calculate_y(b0, b1, X):\n",
    "    y = b0 + b1*X\n",
    "    return y\n",
    "\n",
    "def calculate_rmse(Y, y):\n",
    "    rmse = np.sqrt(np.sum((Y-y)**2)/len(Y))\n",
    "    return rmse\n",
    "\n",
    "def calculate_r2_score(Y, y):\n",
    "    r2 = 1 - np.sum((Y-y)**2)/np.sum((Y-np.mean(Y))**2)\n",
    "    return r2\n",
    "\n",
    "b1 = calculate_b1(X, Y, mean_x, mean_y)\n",
    "b0 = calculate_b0(mean_x, mean_y, b1)\n",
    "y = calculate_y(b0, b1, X)\n",
    "rmse = calculate_rmse(Y, y)\n",
    "r2 = calculate_r2_score(Y, y)\n",
    "\n",
    "print(\"b1 = \", b1)\n",
    "print(\"b0 = \", b0)\n",
    "print(\"RMSE = \", rmse)\n",
    "print(\"R2 = \", r2)\n",
    "print(\"Regression Equation: Y = \", b0, \" + \", b1, \" * X\")\n",
    "\n",
    "import matplotlib.pyplot as plt\n",
    "\n",
    "plt.scatter(X, Y, color = \"m\", marker = \"o\", s = 30)\n",
    "y_pred = b0 + b1*X\n",
    "print(\"Equation of Regression is -->\",y_pred[1])\n",
    "plt.plot(X, y_pred, color = \"g\")\n",
    "plt.xlabel('Head Size(cm^3)')\n",
    "plt.ylabel('Brain Weight(grams)')\n",
    "plt.show()"
   ]
  },
  {
   "cell_type": "code",
   "execution_count": null,
   "id": "d9fd5bbd-ce23-4edb-adbe-b7a3618aed5a",
   "metadata": {},
   "outputs": [],
   "source": []
  }
 ],
 "metadata": {
  "kernelspec": {
   "display_name": "Python 3 (ipykernel)",
   "language": "python",
   "name": "python3"
  },
  "language_info": {
   "codemirror_mode": {
    "name": "ipython",
    "version": 3
   },
   "file_extension": ".py",
   "mimetype": "text/x-python",
   "name": "python",
   "nbconvert_exporter": "python",
   "pygments_lexer": "ipython3",
   "version": "3.9.12"
  },
  "vscode": {
   "interpreter": {
    "hash": "ead1b95f633dc9c51826328e1846203f51a198c6fb5f2884a80417ba131d4e82"
   }
  }
 },
 "nbformat": 4,
 "nbformat_minor": 5
}
