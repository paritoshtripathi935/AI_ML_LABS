{
 "cells": [
  {
   "cell_type": "code",
   "execution_count": 1,
   "id": "df5d23cb-4666-443e-9432-2fc52efda7fa",
   "metadata": {},
   "outputs": [],
   "source": [
    "import pandas as pd\n",
    "import matplotlib.pyplot as plt\n",
    "import seaborn as sns\n",
    "from sklearn.preprocessing import StandardScaler\n",
    "from sklearn.svm import SVC\n",
    "from sklearn.metrics import accuracy_score\n",
    "from sklearn.model_selection import train_test_split\n",
    "import pickle"
   ]
  },
  {
   "cell_type": "code",
   "execution_count": 2,
   "id": "ce041f18-94a5-4e60-97de-c6864fc6f143",
   "metadata": {},
   "outputs": [],
   "source": [
    "# !echo '{\"username\":\"paritoshtripathi\",\"key\":\"2b50a9924984f4ae26c074bad5f41bc4\"}' > kaggle.json\n",
    "# !kaggle datasets download -d colearninglounge/predicting-pulsar-starintermediate\n",
    "# use this to download the dataset"
   ]
  },
  {
   "cell_type": "code",
   "execution_count": 3,
   "id": "1d14018d-cc04-4f69-a8a1-c40e9619348f",
   "metadata": {},
   "outputs": [],
   "source": [
    "# !unzip predicting-pulsar-starintermediate.zip"
   ]
  },
  {
   "cell_type": "code",
   "execution_count": 4,
   "id": "4acd577c-5838-4eb9-b989-e598291fc08c",
   "metadata": {},
   "outputs": [],
   "source": [
    "train = pd.read_csv(\"pulsar_data_train.csv\")\n",
    "test = pd.read_csv(\"pulsar_data_test.csv\")"
   ]
  },
  {
   "cell_type": "code",
   "execution_count": 5,
   "id": "811903aa-665a-429a-89e5-5678528ad3f9",
   "metadata": {},
   "outputs": [
    {
     "data": {
      "text/plain": [
       "Index([' Mean of the integrated profile',\n",
       "       ' Standard deviation of the integrated profile',\n",
       "       ' Excess kurtosis of the integrated profile',\n",
       "       ' Skewness of the integrated profile', ' Mean of the DM-SNR curve',\n",
       "       ' Standard deviation of the DM-SNR curve',\n",
       "       ' Excess kurtosis of the DM-SNR curve', ' Skewness of the DM-SNR curve',\n",
       "       'target_class'],\n",
       "      dtype='object')"
      ]
     },
     "execution_count": 5,
     "metadata": {},
     "output_type": "execute_result"
    }
   ],
   "source": [
    "train.columns"
   ]
  },
  {
   "cell_type": "code",
   "execution_count": 6,
   "id": "159f4971-9cf3-47aa-93cd-8a4116252f60",
   "metadata": {},
   "outputs": [
    {
     "name": "stdout",
     "output_type": "stream",
     "text": [
      "    Mean of the integrated profile  \\\n",
      "0                       121.156250   \n",
      "1                        76.968750   \n",
      "2                       130.585938   \n",
      "3                       156.398438   \n",
      "4                        84.804688   \n",
      "5                       121.007812   \n",
      "6                        79.343750   \n",
      "7                       109.406250   \n",
      "8                        95.007812   \n",
      "9                       109.156250   \n",
      "\n",
      "    Standard deviation of the integrated profile  \\\n",
      "0                                      48.372971   \n",
      "1                                      36.175557   \n",
      "2                                      53.229534   \n",
      "3                                      48.865942   \n",
      "4                                      36.117659   \n",
      "5                                      47.176944   \n",
      "6                                      42.402174   \n",
      "7                                      55.912521   \n",
      "8                                      40.219805   \n",
      "9                                      47.002234   \n",
      "\n",
      "    Excess kurtosis of the integrated profile  \\\n",
      "0                                    0.375485   \n",
      "1                                    0.712898   \n",
      "2                                    0.133408   \n",
      "3                                   -0.215989   \n",
      "4                                    0.825013   \n",
      "5                                    0.229708   \n",
      "6                                    1.063413   \n",
      "7                                    0.565106   \n",
      "8                                    0.347578   \n",
      "9                                    0.394182   \n",
      "\n",
      "    Skewness of the integrated profile   Mean of the DM-SNR curve  \\\n",
      "0                            -0.013165                   3.168896   \n",
      "1                             3.388719                   2.399666   \n",
      "2                            -0.297242                   2.743311   \n",
      "3                            -0.171294                  17.471572   \n",
      "4                             3.274125                   2.790134   \n",
      "5                             0.091336                   2.036789   \n",
      "6                             2.244377                 141.641304   \n",
      "7                             0.056247                   2.797659   \n",
      "8                             1.153164                   2.770067   \n",
      "9                             0.190296                   4.578595   \n",
      "\n",
      "    Standard deviation of the DM-SNR curve  \\\n",
      "0                                18.399367   \n",
      "1                                17.570997   \n",
      "2                                22.362553   \n",
      "3                                      NaN   \n",
      "4                                20.618009   \n",
      "5                                      NaN   \n",
      "6                                      NaN   \n",
      "7                                19.496527   \n",
      "8                                18.217741   \n",
      "9                                      NaN   \n",
      "\n",
      "    Excess kurtosis of the DM-SNR curve   Skewness of the DM-SNR curve  \\\n",
      "0                              7.449874                      65.159298   \n",
      "1                              9.414652                     102.722975   \n",
      "2                              8.508364                      74.031324   \n",
      "3                              2.958066                       7.197842   \n",
      "4                              8.405008                      76.291128   \n",
      "5                              9.546051                     112.131721   \n",
      "6                             -0.700809                      -1.200653   \n",
      "7                              9.443282                      97.374578   \n",
      "8                              7.851205                      70.801938   \n",
      "9                              5.702532                      36.342493   \n",
      "\n",
      "   target_class  \n",
      "0           0.0  \n",
      "1           0.0  \n",
      "2           0.0  \n",
      "3           0.0  \n",
      "4           0.0  \n",
      "5           0.0  \n",
      "6           0.0  \n",
      "7           0.0  \n",
      "8           0.0  \n",
      "9           0.0  \n",
      "        Mean of the integrated profile  \\\n",
      "12518                       100.656250   \n",
      "12519                       124.742188   \n",
      "12520                       115.375000   \n",
      "12521                        90.570312   \n",
      "12522                       124.828125   \n",
      "12523                       124.312500   \n",
      "12524                       115.617188   \n",
      "12525                       116.031250   \n",
      "12526                       135.664062   \n",
      "12527                       120.726562   \n",
      "\n",
      "        Standard deviation of the integrated profile  \\\n",
      "12518                                      42.408438   \n",
      "12519                                      51.234791   \n",
      "12520                                      52.625891   \n",
      "12521                                      54.453203   \n",
      "12522                                      50.586731   \n",
      "12523                                      53.179053   \n",
      "12524                                      46.784600   \n",
      "12525                                      43.213846   \n",
      "12526                                      49.933749   \n",
      "12527                                      50.472256   \n",
      "\n",
      "        Excess kurtosis of the integrated profile  \\\n",
      "12518                                    0.396806   \n",
      "12519                                   -0.085093   \n",
      "12520                                    0.448982   \n",
      "12521                                    1.238812   \n",
      "12522                                    0.233563   \n",
      "12523                                   -0.012418   \n",
      "12524                                    0.218177   \n",
      "12525                                    0.663456   \n",
      "12526                                   -0.089940   \n",
      "12527                                    0.346178   \n",
      "\n",
      "        Skewness of the integrated profile   Mean of the DM-SNR curve  \\\n",
      "12518                             0.472521                  23.314381   \n",
      "12519                            -0.422925                   2.815217   \n",
      "12520                             0.104404                   3.354515   \n",
      "12521                             0.880610                 152.419732   \n",
      "12522                            -0.286908                   2.342809   \n",
      "12523                            -0.556021                   7.186455   \n",
      "12524                             0.226757                   6.140468   \n",
      "12525                             0.433088                   0.785117   \n",
      "12526                            -0.226726                   3.859532   \n",
      "12527                             0.184797                   0.769231   \n",
      "\n",
      "        Standard deviation of the DM-SNR curve  \\\n",
      "12518                                52.123645   \n",
      "12519                                14.863936   \n",
      "12520                                18.365749   \n",
      "12521                                73.971777   \n",
      "12522                                13.949966   \n",
      "12523                                29.308266   \n",
      "12524                                      NaN   \n",
      "12525                                11.628149   \n",
      "12526                                21.501505   \n",
      "12527                                11.792603   \n",
      "\n",
      "        Excess kurtosis of the DM-SNR curve   Skewness of the DM-SNR curve  \\\n",
      "12518                              2.154456                       3.743475   \n",
      "12519                              8.231859                      94.205382   \n",
      "12520                              7.358722                      65.764006   \n",
      "12521                             -0.933088                      -0.371532   \n",
      "12522                              9.226188                     117.308146   \n",
      "12523                              4.531382                      21.725143   \n",
      "12524                              5.732201                      34.357283   \n",
      "12525                             17.055215                     312.204325   \n",
      "12526                              7.398395                      62.334018   \n",
      "12527                             17.662222                     329.548016   \n",
      "\n",
      "       target_class  \n",
      "12518           0.0  \n",
      "12519           0.0  \n",
      "12520           0.0  \n",
      "12521           1.0  \n",
      "12522           0.0  \n",
      "12523           0.0  \n",
      "12524           0.0  \n",
      "12525           0.0  \n",
      "12526           0.0  \n",
      "12527           0.0  \n",
      "(12528, 9)\n",
      " Mean of the integrated profile                  float64\n",
      " Standard deviation of the integrated profile    float64\n",
      " Excess kurtosis of the integrated profile       float64\n",
      " Skewness of the integrated profile              float64\n",
      " Mean of the DM-SNR curve                        float64\n",
      " Standard deviation of the DM-SNR curve          float64\n",
      " Excess kurtosis of the DM-SNR curve             float64\n",
      " Skewness of the DM-SNR curve                    float64\n",
      "target_class                                     float64\n",
      "dtype: object\n"
     ]
    }
   ],
   "source": [
    "print(train.head(10))\n",
    "print(train.tail(10))\n",
    "\n",
    "print(train.shape)\n",
    "print(train.dtypes)"
   ]
  },
  {
   "cell_type": "code",
   "execution_count": 7,
   "id": "2c94f036-69fe-4a7a-9962-6e8b8e547ed2",
   "metadata": {},
   "outputs": [
    {
     "data": {
      "text/plain": [
       "Index([' Mean of the integrated profile',\n",
       "       ' Standard deviation of the integrated profile',\n",
       "       ' Excess kurtosis of the integrated profile',\n",
       "       ' Skewness of the integrated profile', ' Mean of the DM-SNR curve',\n",
       "       ' Standard deviation of the DM-SNR curve',\n",
       "       ' Excess kurtosis of the DM-SNR curve', ' Skewness of the DM-SNR curve',\n",
       "       'target_class'],\n",
       "      dtype='object')"
      ]
     },
     "execution_count": 7,
     "metadata": {},
     "output_type": "execute_result"
    }
   ],
   "source": [
    "train.columns"
   ]
  },
  {
   "cell_type": "code",
   "execution_count": 8,
   "id": "39b54477-58f4-4d44-8582-fb812c18d35c",
   "metadata": {},
   "outputs": [],
   "source": [
    "train.columns = train.columns.str.strip()\n",
    "test.columns = test.columns.str.strip()"
   ]
  },
  {
   "cell_type": "code",
   "execution_count": 9,
   "id": "0764ecf2-89ef-479a-a4da-9fb4e91515b2",
   "metadata": {},
   "outputs": [
    {
     "data": {
      "text/plain": [
       "Index(['Mean of the integrated profile',\n",
       "       'Standard deviation of the integrated profile',\n",
       "       'Excess kurtosis of the integrated profile',\n",
       "       'Skewness of the integrated profile', 'Mean of the DM-SNR curve',\n",
       "       'Standard deviation of the DM-SNR curve',\n",
       "       'Excess kurtosis of the DM-SNR curve', 'Skewness of the DM-SNR curve',\n",
       "       'target_class'],\n",
       "      dtype='object')"
      ]
     },
     "execution_count": 9,
     "metadata": {},
     "output_type": "execute_result"
    }
   ],
   "source": [
    "train.columns"
   ]
  },
  {
   "cell_type": "code",
   "execution_count": 10,
   "id": "32c50b2e-5c8d-4ba8-9833-8eb2b07f3ea7",
   "metadata": {},
   "outputs": [],
   "source": [
    "# Checking for missing values\n",
    "def data_processing(df):\n",
    "    df = df.dropna()\n",
    "    df = df.drop_duplicates()\n",
    "    df = pd.get_dummies(df, drop_first=True)\n",
    "    \n",
    "    scaler = StandardScaler()\n",
    "    df['Mean of the integrated profile'] = scaler.fit_transform(df[['Mean of the integrated profile']])\n",
    "    df['Standard deviation of the integrated profile'] = scaler.fit_transform(df[['Standard deviation of the integrated profile']])\n",
    "    df['Excess kurtosis of the integrated profile'] = scaler.fit_transform(df[['Excess kurtosis of the integrated profile']])\n",
    "    df['Skewness of the integrated profile'] = scaler.fit_transform(df[['Skewness of the integrated profile']])\n",
    "    df['Mean of the DM-SNR curve'] = scaler.fit_transform(df[['Mean of the DM-SNR curve']])\n",
    "    df['Standard deviation of the DM-SNR curve'] = scaler.fit_transform(df[['Standard deviation of the DM-SNR curve']])\n",
    "    df['Excess kurtosis of the DM-SNR curve'] = scaler.fit_transform(df[['Excess kurtosis of the DM-SNR curve']])\n",
    "    df['Skewness of the DM-SNR curve'] = scaler.fit_transform(df[['Skewness of the DM-SNR curve']])\n",
    "\n",
    "    # check for outliers using boxplot\n",
    "    sns.boxplot(x=df['Mean of the integrated profile'])\n",
    "    plt.show()\n",
    "    sns.boxplot(x=df['Standard deviation of the integrated profile'])\n",
    "    plt.show()\n",
    "    sns.boxplot(x=df['Excess kurtosis of the integrated profile'])\n",
    "    plt.show()\n",
    "    sns.boxplot(x=df['Skewness of the integrated profile'])\n",
    "    plt.show()\n",
    "    sns.boxplot(x=df['Mean of the DM-SNR curve'])\n",
    "    plt.show()\n",
    "    sns.boxplot(x=df['Standard deviation of the DM-SNR curve'])\n",
    "    plt.show()\n",
    "    sns.boxplot(x=df['Excess kurtosis of the DM-SNR curve'])\n",
    "    plt.show()\n",
    "    sns.boxplot(x=df['Skewness of the DM-SNR curve'])\n",
    "    plt.show()\n",
    "    \n",
    "    return df\n"
   ]
  },
  {
   "cell_type": "code",
   "execution_count": 20,
   "id": "781e5dcf-4447-400e-869a-04e144c2f3b3",
   "metadata": {},
   "outputs": [],
   "source": [
    "def svm_train(df):\n",
    "    X = df.drop('target_class', axis=1)\n",
    "    y = df['target_class']\n",
    "\n",
    "    X_train, X_test, y_train, y_test = train_test_split(X, y, test_size=0.2, random_state=42)\n",
    "\n",
    "    # a) SVM with Default parameter means C=1.0, kernel=rbf and gamma=auto among other parameters)\n",
    "    clf = SVC()\n",
    "    clf.fit(X_train, y_train)\n",
    "    y_pred = clf.predict(X_test)\n",
    "    print(\"Accuracy of SVM with Default parameter means C=1.0, kernel=rbf and gamma=auto among other parameters) is: \", accuracy_score(y_test, y_pred))\n",
    "    \n",
    "    # b) SVM with rbf kernel and C=100.0\n",
    "    clf = SVC(C=100.0)\n",
    "    clf.fit(X_train, y_train)\n",
    "    y_pred = clf.predict(X_test)\n",
    "    print(\"Accuracy of SVM with rbf kernel and C=100.0 is: \", accuracy_score(y_test, y_pred))\n",
    "\n",
    "    # c) SVM with rbf kernel and C=1000.0\n",
    "    clf = SVC(C=1000.0)\n",
    "    clf.fit(X_train, y_train)\n",
    "    y_pred = clf.predict(X_test)\n",
    "    print(\"Accuracy of SVM with rbf kernel and C=1000.0 is: \", accuracy_score(y_test, y_pred))\n",
    "\n",
    "    # d) SVM with linear kernel and C=1.0\n",
    "    clf = SVC(kernel='linear', C=1.0)\n",
    "    clf.fit(X_train, y_train)\n",
    "    y_pred = clf.predict(X_test)\n",
    "\n",
    "    print(\"Accuracy of SVM with linear kernel and C=1.0 is: \", accuracy_score(y_test, y_pred))\n",
    "\n",
    "    # e) SVM with linear kernel and C=100.0\n",
    "    clf = SVC(kernel='linear', C=100.0)\n",
    "    clf.fit(X_train, y_train)\n",
    "    y_pred = clf.predict(X_test)\n",
    "    print(\"Accuracy of SVM with linear kernel and C=100.0 is: \", accuracy_score(y_test, y_pred))\n",
    "\n",
    "    # f) SVM with linear kernel and C=1000.0\n",
    "    clf = SVC(kernel='linear', C=1000.0)\n",
    "    clf.fit(X_train, y_train)\n",
    "    y_pred = clf.predict(X_test)\n",
    "    print(\"Accuracy of SVM with linear kernel and C=1000.0 is: \", accuracy_score(y_test, y_pred))\n",
    "\n",
    "    # g) Choose option b and e with gamma =100\n",
    "    clf = SVC(C=100.0, gamma=100)\n",
    "    clf.fit(X_train, y_train)\n",
    "    y_pred = clf.predict(X_test)\n",
    "    print(\"Accuracy of SVM with rbf kernel and C=100.0 and gamma=100 is: \", accuracy_score(y_test, y_pred))\n",
    "    \n",
    "    # h) Choose option c and f with gamma =1000\n",
    "    clf = SVC(kernel='linear', C=100.0, gamma=100)\n",
    "    clf.fit(X_train, y_train)\n",
    "    y_pred = clf.predict(X_test)\n",
    "    print(\"Accuracy of SVM with linear kernel and C=100.0 and gamma=100 is: \", accuracy_score(y_test, y_pred))\n",
    "    \n",
    "    pickle.dump(clf, open('model.pkl', 'wb'))\n",
    "    return df"
   ]
  },
  {
   "cell_type": "code",
   "execution_count": 21,
   "id": "29dc9cc6-33a1-4872-8845-c255a52ccf4e",
   "metadata": {},
   "outputs": [
    {
     "data": {
      "image/png": "[encoded data removed]",
      "text/plain": [
       "<Figure size 432x288 with 1 Axes>"
      ]
     },
     "metadata": {
      "needs_background": "light"
     },
     "output_type": "display_data"
    },
    {
     "data": {
      "image/png": "[encoded data removed]",
      "text/plain": [
       "<Figure size 432x288 with 1 Axes>"
      ]
     },
     "metadata": {
      "needs_background": "light"
     },
     "output_type": "display_data"
    },
    {
     "data": {
      "image/png": "[encoded data removed]",
      "text/plain": [
       "<Figure size 432x288 with 1 Axes>"
      ]
     },
     "metadata": {
      "needs_background": "light"
     },
     "output_type": "display_data"
    },
    {
     "data": {
      "image/png": "[encoded data removed]",
      "text/plain": [
       "<Figure size 432x288 with 1 Axes>"
      ]
     },
     "metadata": {
      "needs_background": "light"
     },
     "output_type": "display_data"
    },
    {
     "data": {
      "image/png": "[encoded data removed]",
      "text/plain": [
       "<Figure size 432x288 with 1 Axes>"
      ]
     },
     "metadata": {
      "needs_background": "light"
     },
     "output_type": "display_data"
    },
    {
     "data": {
      "image/png": "[encoded data removed]",
      "text/plain": [
       "<Figure size 432x288 with 1 Axes>"
      ]
     },
     "metadata": {
      "needs_background": "light"
     },
     "output_type": "display_data"
    },
    {
     "data": {
      "image/png": "[encoded data removed]",
      "text/plain": [
       "<Figure size 432x288 with 1 Axes>"
      ]
     },
     "metadata": {
      "needs_background": "light"
     },
     "output_type": "display_data"
    },
    {
     "data": {
      "image/png": "[encoded data removed]",
      "text/plain": [
       "<Figure size 432x288 with 1 Axes>"
      ]
     },
     "metadata": {
      "needs_background": "light"
     },
     "output_type": "display_data"
    }
   ],
   "source": [
    "df = data_processing(train)"
   ]
  },
  {
   "cell_type": "code",
   "execution_count": 22,
   "id": "1f47d7e6-cc46-427c-a7e1-7a7e49cb9f31",
   "metadata": {},
   "outputs": [
    {
     "name": "stdout",
     "output_type": "stream",
     "text": [
      "Accuracy of SVM with Default parameter means C=1.0, kernel=rbf and gamma=auto among other parameters) is:  0.9800539083557952\n"
     ]
    },
    {
     "ename": "ValueError",
     "evalue": "x and y must be the same size",
     "output_type": "error",
     "traceback": [
      "\u001b[0;31m---------------------------------------------------------------------------\u001b[0m",
      "\u001b[0;31mValueError\u001b[0m                                Traceback (most recent call last)",
      "Input \u001b[0;32mIn [22]\u001b[0m, in \u001b[0;36m<cell line: 1>\u001b[0;34m()\u001b[0m\n\u001b[0;32m----> 1\u001b[0m model_traning \u001b[38;5;241m=\u001b[39m \u001b[43msvm_train\u001b[49m\u001b[43m(\u001b[49m\u001b[43mdf\u001b[49m\u001b[43m)\u001b[49m\n",
      "Input \u001b[0;32mIn [20]\u001b[0m, in \u001b[0;36msvm_train\u001b[0;34m(df)\u001b[0m\n\u001b[1;32m     10\u001b[0m y_pred \u001b[38;5;241m=\u001b[39m clf\u001b[38;5;241m.\u001b[39mpredict(X_test)\n\u001b[1;32m     11\u001b[0m \u001b[38;5;28mprint\u001b[39m(\u001b[38;5;124m\"\u001b[39m\u001b[38;5;124mAccuracy of SVM with Default parameter means C=1.0, kernel=rbf and gamma=auto among other parameters) is: \u001b[39m\u001b[38;5;124m\"\u001b[39m, accuracy_score(y_test, y_pred))\n\u001b[0;32m---> 12\u001b[0m \u001b[43mplt\u001b[49m\u001b[38;5;241;43m.\u001b[39;49m\u001b[43mscatter\u001b[49m\u001b[43m(\u001b[49m\u001b[43my\u001b[49m\u001b[43m,\u001b[49m\u001b[43m \u001b[49m\u001b[43my_pred\u001b[49m\u001b[43m,\u001b[49m\u001b[43m \u001b[49m\u001b[43mc\u001b[49m\u001b[38;5;241;43m=\u001b[39;49m\u001b[43my\u001b[49m\u001b[43m,\u001b[49m\u001b[43m \u001b[49m\u001b[43mcmap\u001b[49m\u001b[38;5;241;43m=\u001b[39;49m\u001b[43mplt\u001b[49m\u001b[38;5;241;43m.\u001b[39;49m\u001b[43mcm\u001b[49m\u001b[38;5;241;43m.\u001b[39;49m\u001b[43mPaired\u001b[49m\u001b[43m,\u001b[49m\u001b[43m \u001b[49m\u001b[43medgecolors\u001b[49m\u001b[38;5;241;43m=\u001b[39;49m\u001b[38;5;124;43m\"\u001b[39;49m\u001b[38;5;124;43mk\u001b[39;49m\u001b[38;5;124;43m\"\u001b[39;49m\u001b[43m)\u001b[49m\n\u001b[1;32m     14\u001b[0m \u001b[38;5;66;03m# b) SVM with rbf kernel and C=100.0\u001b[39;00m\n\u001b[1;32m     15\u001b[0m clf \u001b[38;5;241m=\u001b[39m SVC(C\u001b[38;5;241m=\u001b[39m\u001b[38;5;241m100.0\u001b[39m)\n",
      "File \u001b[0;32m~/anaconda3/lib/python3.9/site-packages/matplotlib/pyplot.py:2807\u001b[0m, in \u001b[0;36mscatter\u001b[0;34m(x, y, s, c, marker, cmap, norm, vmin, vmax, alpha, linewidths, edgecolors, plotnonfinite, data, **kwargs)\u001b[0m\n\u001b[1;32m   2802\u001b[0m \u001b[38;5;129m@_copy_docstring_and_deprecators\u001b[39m(Axes\u001b[38;5;241m.\u001b[39mscatter)\n\u001b[1;32m   2803\u001b[0m \u001b[38;5;28;01mdef\u001b[39;00m \u001b[38;5;21mscatter\u001b[39m(\n\u001b[1;32m   2804\u001b[0m         x, y, s\u001b[38;5;241m=\u001b[39m\u001b[38;5;28;01mNone\u001b[39;00m, c\u001b[38;5;241m=\u001b[39m\u001b[38;5;28;01mNone\u001b[39;00m, marker\u001b[38;5;241m=\u001b[39m\u001b[38;5;28;01mNone\u001b[39;00m, cmap\u001b[38;5;241m=\u001b[39m\u001b[38;5;28;01mNone\u001b[39;00m, norm\u001b[38;5;241m=\u001b[39m\u001b[38;5;28;01mNone\u001b[39;00m,\n\u001b[1;32m   2805\u001b[0m         vmin\u001b[38;5;241m=\u001b[39m\u001b[38;5;28;01mNone\u001b[39;00m, vmax\u001b[38;5;241m=\u001b[39m\u001b[38;5;28;01mNone\u001b[39;00m, alpha\u001b[38;5;241m=\u001b[39m\u001b[38;5;28;01mNone\u001b[39;00m, linewidths\u001b[38;5;241m=\u001b[39m\u001b[38;5;28;01mNone\u001b[39;00m, \u001b[38;5;241m*\u001b[39m,\n\u001b[1;32m   2806\u001b[0m         edgecolors\u001b[38;5;241m=\u001b[39m\u001b[38;5;28;01mNone\u001b[39;00m, plotnonfinite\u001b[38;5;241m=\u001b[39m\u001b[38;5;28;01mFalse\u001b[39;00m, data\u001b[38;5;241m=\u001b[39m\u001b[38;5;28;01mNone\u001b[39;00m, \u001b[38;5;241m*\u001b[39m\u001b[38;5;241m*\u001b[39mkwargs):\n\u001b[0;32m-> 2807\u001b[0m     __ret \u001b[38;5;241m=\u001b[39m \u001b[43mgca\u001b[49m\u001b[43m(\u001b[49m\u001b[43m)\u001b[49m\u001b[38;5;241;43m.\u001b[39;49m\u001b[43mscatter\u001b[49m\u001b[43m(\u001b[49m\n\u001b[1;32m   2808\u001b[0m \u001b[43m        \u001b[49m\u001b[43mx\u001b[49m\u001b[43m,\u001b[49m\u001b[43m \u001b[49m\u001b[43my\u001b[49m\u001b[43m,\u001b[49m\u001b[43m \u001b[49m\u001b[43ms\u001b[49m\u001b[38;5;241;43m=\u001b[39;49m\u001b[43ms\u001b[49m\u001b[43m,\u001b[49m\u001b[43m \u001b[49m\u001b[43mc\u001b[49m\u001b[38;5;241;43m=\u001b[39;49m\u001b[43mc\u001b[49m\u001b[43m,\u001b[49m\u001b[43m \u001b[49m\u001b[43mmarker\u001b[49m\u001b[38;5;241;43m=\u001b[39;49m\u001b[43mmarker\u001b[49m\u001b[43m,\u001b[49m\u001b[43m \u001b[49m\u001b[43mcmap\u001b[49m\u001b[38;5;241;43m=\u001b[39;49m\u001b[43mcmap\u001b[49m\u001b[43m,\u001b[49m\u001b[43m \u001b[49m\u001b[43mnorm\u001b[49m\u001b[38;5;241;43m=\u001b[39;49m\u001b[43mnorm\u001b[49m\u001b[43m,\u001b[49m\n\u001b[1;32m   2809\u001b[0m \u001b[43m        \u001b[49m\u001b[43mvmin\u001b[49m\u001b[38;5;241;43m=\u001b[39;49m\u001b[43mvmin\u001b[49m\u001b[43m,\u001b[49m\u001b[43m \u001b[49m\u001b[43mvmax\u001b[49m\u001b[38;5;241;43m=\u001b[39;49m\u001b[43mvmax\u001b[49m\u001b[43m,\u001b[49m\u001b[43m \u001b[49m\u001b[43malpha\u001b[49m\u001b[38;5;241;43m=\u001b[39;49m\u001b[43malpha\u001b[49m\u001b[43m,\u001b[49m\u001b[43m \u001b[49m\u001b[43mlinewidths\u001b[49m\u001b[38;5;241;43m=\u001b[39;49m\u001b[43mlinewidths\u001b[49m\u001b[43m,\u001b[49m\n\u001b[1;32m   2810\u001b[0m \u001b[43m        \u001b[49m\u001b[43medgecolors\u001b[49m\u001b[38;5;241;43m=\u001b[39;49m\u001b[43medgecolors\u001b[49m\u001b[43m,\u001b[49m\u001b[43m \u001b[49m\u001b[43mplotnonfinite\u001b[49m\u001b[38;5;241;43m=\u001b[39;49m\u001b[43mplotnonfinite\u001b[49m\u001b[43m,\u001b[49m\n\u001b[1;32m   2811\u001b[0m \u001b[43m        \u001b[49m\u001b[38;5;241;43m*\u001b[39;49m\u001b[38;5;241;43m*\u001b[39;49m\u001b[43m(\u001b[49m\u001b[43m{\u001b[49m\u001b[38;5;124;43m\"\u001b[39;49m\u001b[38;5;124;43mdata\u001b[39;49m\u001b[38;5;124;43m\"\u001b[39;49m\u001b[43m:\u001b[49m\u001b[43m \u001b[49m\u001b[43mdata\u001b[49m\u001b[43m}\u001b[49m\u001b[43m \u001b[49m\u001b[38;5;28;43;01mif\u001b[39;49;00m\u001b[43m \u001b[49m\u001b[43mdata\u001b[49m\u001b[43m \u001b[49m\u001b[38;5;129;43;01mis\u001b[39;49;00m\u001b[43m \u001b[49m\u001b[38;5;129;43;01mnot\u001b[39;49;00m\u001b[43m \u001b[49m\u001b[38;5;28;43;01mNone\u001b[39;49;00m\u001b[43m \u001b[49m\u001b[38;5;28;43;01melse\u001b[39;49;00m\u001b[43m \u001b[49m\u001b[43m{\u001b[49m\u001b[43m}\u001b[49m\u001b[43m)\u001b[49m\u001b[43m,\u001b[49m\u001b[43m \u001b[49m\u001b[38;5;241;43m*\u001b[39;49m\u001b[38;5;241;43m*\u001b[39;49m\u001b[43mkwargs\u001b[49m\u001b[43m)\u001b[49m\n\u001b[1;32m   2812\u001b[0m     sci(__ret)\n\u001b[1;32m   2813\u001b[0m     \u001b[38;5;28;01mreturn\u001b[39;00m __ret\n",
      "File \u001b[0;32m~/anaconda3/lib/python3.9/site-packages/matplotlib/__init__.py:1412\u001b[0m, in \u001b[0;36m_preprocess_data.<locals>.inner\u001b[0;34m(ax, data, *args, **kwargs)\u001b[0m\n\u001b[1;32m   1409\u001b[0m \u001b[38;5;129m@functools\u001b[39m\u001b[38;5;241m.\u001b[39mwraps(func)\n\u001b[1;32m   1410\u001b[0m \u001b[38;5;28;01mdef\u001b[39;00m \u001b[38;5;21minner\u001b[39m(ax, \u001b[38;5;241m*\u001b[39margs, data\u001b[38;5;241m=\u001b[39m\u001b[38;5;28;01mNone\u001b[39;00m, \u001b[38;5;241m*\u001b[39m\u001b[38;5;241m*\u001b[39mkwargs):\n\u001b[1;32m   1411\u001b[0m     \u001b[38;5;28;01mif\u001b[39;00m data \u001b[38;5;129;01mis\u001b[39;00m \u001b[38;5;28;01mNone\u001b[39;00m:\n\u001b[0;32m-> 1412\u001b[0m         \u001b[38;5;28;01mreturn\u001b[39;00m \u001b[43mfunc\u001b[49m\u001b[43m(\u001b[49m\u001b[43max\u001b[49m\u001b[43m,\u001b[49m\u001b[43m \u001b[49m\u001b[38;5;241;43m*\u001b[39;49m\u001b[38;5;28;43mmap\u001b[39;49m\u001b[43m(\u001b[49m\u001b[43msanitize_sequence\u001b[49m\u001b[43m,\u001b[49m\u001b[43m \u001b[49m\u001b[43margs\u001b[49m\u001b[43m)\u001b[49m\u001b[43m,\u001b[49m\u001b[43m \u001b[49m\u001b[38;5;241;43m*\u001b[39;49m\u001b[38;5;241;43m*\u001b[39;49m\u001b[43mkwargs\u001b[49m\u001b[43m)\u001b[49m\n\u001b[1;32m   1414\u001b[0m     bound \u001b[38;5;241m=\u001b[39m new_sig\u001b[38;5;241m.\u001b[39mbind(ax, \u001b[38;5;241m*\u001b[39margs, \u001b[38;5;241m*\u001b[39m\u001b[38;5;241m*\u001b[39mkwargs)\n\u001b[1;32m   1415\u001b[0m     auto_label \u001b[38;5;241m=\u001b[39m (bound\u001b[38;5;241m.\u001b[39marguments\u001b[38;5;241m.\u001b[39mget(label_namer)\n\u001b[1;32m   1416\u001b[0m                   \u001b[38;5;129;01mor\u001b[39;00m bound\u001b[38;5;241m.\u001b[39mkwargs\u001b[38;5;241m.\u001b[39mget(label_namer))\n",
      "File \u001b[0;32m~/anaconda3/lib/python3.9/site-packages/matplotlib/axes/_axes.py:4369\u001b[0m, in \u001b[0;36mAxes.scatter\u001b[0;34m(self, x, y, s, c, marker, cmap, norm, vmin, vmax, alpha, linewidths, edgecolors, plotnonfinite, **kwargs)\u001b[0m\n\u001b[1;32m   4367\u001b[0m y \u001b[38;5;241m=\u001b[39m np\u001b[38;5;241m.\u001b[39mma\u001b[38;5;241m.\u001b[39mravel(y)\n\u001b[1;32m   4368\u001b[0m \u001b[38;5;28;01mif\u001b[39;00m x\u001b[38;5;241m.\u001b[39msize \u001b[38;5;241m!=\u001b[39m y\u001b[38;5;241m.\u001b[39msize:\n\u001b[0;32m-> 4369\u001b[0m     \u001b[38;5;28;01mraise\u001b[39;00m \u001b[38;5;167;01mValueError\u001b[39;00m(\u001b[38;5;124m\"\u001b[39m\u001b[38;5;124mx and y must be the same size\u001b[39m\u001b[38;5;124m\"\u001b[39m)\n\u001b[1;32m   4371\u001b[0m \u001b[38;5;28;01mif\u001b[39;00m s \u001b[38;5;129;01mis\u001b[39;00m \u001b[38;5;28;01mNone\u001b[39;00m:\n\u001b[1;32m   4372\u001b[0m     s \u001b[38;5;241m=\u001b[39m (\u001b[38;5;241m20\u001b[39m \u001b[38;5;28;01mif\u001b[39;00m rcParams[\u001b[38;5;124m'\u001b[39m\u001b[38;5;124m_internal.classic_mode\u001b[39m\u001b[38;5;124m'\u001b[39m] \u001b[38;5;28;01melse\u001b[39;00m\n\u001b[1;32m   4373\u001b[0m          rcParams[\u001b[38;5;124m'\u001b[39m\u001b[38;5;124mlines.markersize\u001b[39m\u001b[38;5;124m'\u001b[39m] \u001b[38;5;241m*\u001b[39m\u001b[38;5;241m*\u001b[39m \u001b[38;5;241m2.0\u001b[39m)\n",
      "\u001b[0;31mValueError\u001b[0m: x and y must be the same size"
     ]
    },
    {
     "data": {
      "image/png": "[encoded data removed]",
      "text/plain": [
       "<Figure size 432x288 with 1 Axes>"
      ]
     },
     "metadata": {
      "needs_background": "light"
     },
     "output_type": "display_data"
    }
   ],
   "source": [
    "model_traning = svm_train(df)"
   ]
  },
  {
   "cell_type": "code",
   "execution_count": null,
   "id": "c49deb58-9eb2-466a-9dc3-559d8bba804a",
   "metadata": {},
   "outputs": [],
   "source": [
    "test = test.fillna(0)"
   ]
  },
  {
   "cell_type": "code",
   "execution_count": null,
   "id": "486270a0-da9b-4831-96dd-8021376e1e61",
   "metadata": {},
   "outputs": [],
   "source": [
    "test"
   ]
  },
  {
   "cell_type": "code",
   "execution_count": null,
   "id": "b185e2f2-5d9c-41c0-8896-f56cdb04173d",
   "metadata": {},
   "outputs": [],
   "source": []
  },
  {
   "cell_type": "code",
   "execution_count": null,
   "id": "b0dddc69-30e1-4fee-a3a4-31cda57cefcd",
   "metadata": {},
   "outputs": [],
   "source": [
    "def load_model():\n",
    "    model = pickle.load(open('model.pkl', 'rb'))\n",
    "    return model\n",
    "\n",
    "# predict the output\n",
    "def predict(model, X_test):\n",
    "    y_pred = model.predict(X_test)\n",
    "    return y_pred\n",
    "\n",
    "# main function\n",
    "if __name__ == '__main__':\n",
    "    df = data_processing(test)\n",
    "    model = load_model()\n",
    "    X = df.drop('target_class', axis=1)\n",
    "    y = df['target_class']\n",
    "    y_pred = predict(model, X)\n",
    "    plt.scatter(y, y_pred, c=y, cmap=plt.cm.Paired, edgecolors=\"k\")\n",
    "    print(\"Accuracy of SVM with linear kernel and C=100.0 and gamma=100 is: \", accuracy_score(y, y_pred))\n",
    "    print(y_pred)\n"
   ]
  },
  {
   "cell_type": "code",
   "execution_count": null,
   "id": "478545c4-0dea-481c-9fc5-103f795002bc",
   "metadata": {},
   "outputs": [],
   "source": []
  }
 ],
 "metadata": {
  "kernelspec": {
   "display_name": "Python 3 (ipykernel)",
   "language": "python",
   "name": "python3"
  },
  "language_info": {
   "codemirror_mode": {
    "name": "ipython",
    "version": 3
   },
   "file_extension": ".py",
   "mimetype": "text/x-python",
   "name": "python",
   "nbconvert_exporter": "python",
   "pygments_lexer": "ipython3",
   "version": "3.9.12"
  }
 },
 "nbformat": 4,
 "nbformat_minor": 5
}
