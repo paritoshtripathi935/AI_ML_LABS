{
 "cells": [
  {
   "cell_type": "code",
   "execution_count": 1,
   "id": "df5d23cb-4666-443e-9432-2fc52efda7fa",
   "metadata": {},
   "outputs": [],
   "source": [
    "import pandas as pd"
   ]
  },
  {
   "cell_type": "code",
   "execution_count": 2,
   "id": "ce041f18-94a5-4e60-97de-c6864fc6f143",
   "metadata": {},
   "outputs": [
    {
     "name": "stdout",
     "output_type": "stream",
     "text": [
      "predicting-pulsar-starintermediate.zip: Skipping, found more recently modified local copy (use --force to force download)\n"
     ]
    }
   ],
   "source": [
    "!echo '{\"username\":\"paritoshtripathi\",\"key\":\"2b50a9924984f4ae26c074bad5f41bc4\"}' > kaggle.json\n",
    "!kaggle datasets download -d colearninglounge/predicting-pulsar-starintermediate"
   ]
  },
  {
   "cell_type": "code",
   "execution_count": 3,
   "id": "1d14018d-cc04-4f69-a8a1-c40e9619348f",
   "metadata": {},
   "outputs": [
    {
     "name": "stdout",
     "output_type": "stream",
     "text": [
      "Archive:  predicting-pulsar-starintermediate.zip\n",
      "  inflating: pulsar_data_test.csv    \n",
      "  inflating: pulsar_data_train.csv   \n"
     ]
    }
   ],
   "source": [
    "!unzip predicting-pulsar-starintermediate.zip"
   ]
  },
  {
   "cell_type": "code",
   "execution_count": 4,
   "id": "4acd577c-5838-4eb9-b989-e598291fc08c",
   "metadata": {},
   "outputs": [],
   "source": [
    "train = pd.read_csv(\"pulsar_data_train.csv\")\n",
    "test = pd.read_csv(\"pulsar_data_test.csv\")"
   ]
  },
  {
   "cell_type": "code",
   "execution_count": 6,
   "id": "811903aa-665a-429a-89e5-5678528ad3f9",
   "metadata": {},
   "outputs": [
    {
     "data": {
      "text/plain": [
       "Index([' Mean of the integrated profile',\n",
       "       ' Standard deviation of the integrated profile',\n",
       "       ' Excess kurtosis of the integrated profile',\n",
       "       ' Skewness of the integrated profile', ' Mean of the DM-SNR curve',\n",
       "       ' Standard deviation of the DM-SNR curve',\n",
       "       ' Excess kurtosis of the DM-SNR curve', ' Skewness of the DM-SNR curve',\n",
       "       'target_class'],\n",
       "      dtype='object')"
      ]
     },
     "execution_count": 6,
     "metadata": {},
     "output_type": "execute_result"
    }
   ],
   "source": [
    "train.columns"
   ]
  },
  {
   "cell_type": "code",
   "execution_count": null,
   "id": "159f4971-9cf3-47aa-93cd-8a4116252f60",
   "metadata": {},
   "outputs": [],
   "source": []
  }
 ],
 "metadata": {
  "kernelspec": {
   "display_name": "Python 3 (ipykernel)",
   "language": "python",
   "name": "python3"
  },
  "language_info": {
   "codemirror_mode": {
    "name": "ipython",
    "version": 3
   },
   "file_extension": ".py",
   "mimetype": "text/x-python",
   "name": "python",
   "nbconvert_exporter": "python",
   "pygments_lexer": "ipython3",
   "version": "3.9.12"
  }
 },
 "nbformat": 4,
 "nbformat_minor": 5
}
