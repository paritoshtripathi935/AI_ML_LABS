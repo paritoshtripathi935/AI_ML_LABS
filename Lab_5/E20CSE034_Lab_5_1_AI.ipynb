{
 "cells": [
  {
   "cell_type": "code",
   "execution_count": 1,
   "id": "b9ea8c5e",
   "metadata": {},
   "outputs": [],
   "source": [
    "import numpy as np\n",
    "import pandas as pd\n",
    "from sklearn.model_selection import train_test_split\n",
    "import matplotlib.pyplot as plt\n",
    "from sklearn.preprocessing import StandardScaler"
   ]
  },
  {
   "cell_type": "code",
   "execution_count": 2,
   "id": "35873795",
   "metadata": {},
   "outputs": [],
   "source": [
    "df = pd.read_csv(\"/Users/meghanapenmetsa/Downloads/archive (2)/pulsar_data_train.csv\")"
   ]
  },
  {
   "cell_type": "code",
   "execution_count": 3,
   "id": "0217471a",
   "metadata": {},
   "outputs": [
    {
     "data": {
      "text/html": [
       "<div>\n",
       "<style scoped>\n",
       "    .dataframe tbody tr th:only-of-type {\n",
       "        vertical-align: middle;\n",
       "    }\n",
       "\n",
       "    .dataframe tbody tr th {\n",
       "        vertical-align: top;\n",
       "    }\n",
       "\n",
       "    .dataframe thead th {\n",
       "        text-align: right;\n",
       "    }\n",
       "</style>\n",
       "<table border=\"1\" class=\"dataframe\">\n",
       "  <thead>\n",
       "    <tr style=\"text-align: right;\">\n",
       "      <th></th>\n",
       "      <th>Mean of the integrated profile</th>\n",
       "      <th>Standard deviation of the integrated profile</th>\n",
       "      <th>Excess kurtosis of the integrated profile</th>\n",
       "      <th>Skewness of the integrated profile</th>\n",
       "      <th>Mean of the DM-SNR curve</th>\n",
       "      <th>Standard deviation of the DM-SNR curve</th>\n",
       "      <th>Excess kurtosis of the DM-SNR curve</th>\n",
       "      <th>Skewness of the DM-SNR curve</th>\n",
       "      <th>target_class</th>\n",
       "    </tr>\n",
       "  </thead>\n",
       "  <tbody>\n",
       "    <tr>\n",
       "      <th>0</th>\n",
       "      <td>121.156250</td>\n",
       "      <td>48.372971</td>\n",
       "      <td>0.375485</td>\n",
       "      <td>-0.013165</td>\n",
       "      <td>3.168896</td>\n",
       "      <td>18.399367</td>\n",
       "      <td>7.449874</td>\n",
       "      <td>65.159298</td>\n",
       "      <td>0.0</td>\n",
       "    </tr>\n",
       "    <tr>\n",
       "      <th>1</th>\n",
       "      <td>76.968750</td>\n",
       "      <td>36.175557</td>\n",
       "      <td>0.712898</td>\n",
       "      <td>3.388719</td>\n",
       "      <td>2.399666</td>\n",
       "      <td>17.570997</td>\n",
       "      <td>9.414652</td>\n",
       "      <td>102.722975</td>\n",
       "      <td>0.0</td>\n",
       "    </tr>\n",
       "    <tr>\n",
       "      <th>2</th>\n",
       "      <td>130.585938</td>\n",
       "      <td>53.229534</td>\n",
       "      <td>0.133408</td>\n",
       "      <td>-0.297242</td>\n",
       "      <td>2.743311</td>\n",
       "      <td>22.362553</td>\n",
       "      <td>8.508364</td>\n",
       "      <td>74.031324</td>\n",
       "      <td>0.0</td>\n",
       "    </tr>\n",
       "    <tr>\n",
       "      <th>3</th>\n",
       "      <td>156.398438</td>\n",
       "      <td>48.865942</td>\n",
       "      <td>-0.215989</td>\n",
       "      <td>-0.171294</td>\n",
       "      <td>17.471572</td>\n",
       "      <td>NaN</td>\n",
       "      <td>2.958066</td>\n",
       "      <td>7.197842</td>\n",
       "      <td>0.0</td>\n",
       "    </tr>\n",
       "    <tr>\n",
       "      <th>4</th>\n",
       "      <td>84.804688</td>\n",
       "      <td>36.117659</td>\n",
       "      <td>0.825013</td>\n",
       "      <td>3.274125</td>\n",
       "      <td>2.790134</td>\n",
       "      <td>20.618009</td>\n",
       "      <td>8.405008</td>\n",
       "      <td>76.291128</td>\n",
       "      <td>0.0</td>\n",
       "    </tr>\n",
       "    <tr>\n",
       "      <th>...</th>\n",
       "      <td>...</td>\n",
       "      <td>...</td>\n",
       "      <td>...</td>\n",
       "      <td>...</td>\n",
       "      <td>...</td>\n",
       "      <td>...</td>\n",
       "      <td>...</td>\n",
       "      <td>...</td>\n",
       "      <td>...</td>\n",
       "    </tr>\n",
       "    <tr>\n",
       "      <th>12523</th>\n",
       "      <td>124.312500</td>\n",
       "      <td>53.179053</td>\n",
       "      <td>-0.012418</td>\n",
       "      <td>-0.556021</td>\n",
       "      <td>7.186455</td>\n",
       "      <td>29.308266</td>\n",
       "      <td>4.531382</td>\n",
       "      <td>21.725143</td>\n",
       "      <td>0.0</td>\n",
       "    </tr>\n",
       "    <tr>\n",
       "      <th>12524</th>\n",
       "      <td>115.617188</td>\n",
       "      <td>46.784600</td>\n",
       "      <td>0.218177</td>\n",
       "      <td>0.226757</td>\n",
       "      <td>6.140468</td>\n",
       "      <td>NaN</td>\n",
       "      <td>5.732201</td>\n",
       "      <td>34.357283</td>\n",
       "      <td>0.0</td>\n",
       "    </tr>\n",
       "    <tr>\n",
       "      <th>12525</th>\n",
       "      <td>116.031250</td>\n",
       "      <td>43.213846</td>\n",
       "      <td>0.663456</td>\n",
       "      <td>0.433088</td>\n",
       "      <td>0.785117</td>\n",
       "      <td>11.628149</td>\n",
       "      <td>17.055215</td>\n",
       "      <td>312.204325</td>\n",
       "      <td>0.0</td>\n",
       "    </tr>\n",
       "    <tr>\n",
       "      <th>12526</th>\n",
       "      <td>135.664062</td>\n",
       "      <td>49.933749</td>\n",
       "      <td>-0.089940</td>\n",
       "      <td>-0.226726</td>\n",
       "      <td>3.859532</td>\n",
       "      <td>21.501505</td>\n",
       "      <td>7.398395</td>\n",
       "      <td>62.334018</td>\n",
       "      <td>0.0</td>\n",
       "    </tr>\n",
       "    <tr>\n",
       "      <th>12527</th>\n",
       "      <td>120.726562</td>\n",
       "      <td>50.472256</td>\n",
       "      <td>0.346178</td>\n",
       "      <td>0.184797</td>\n",
       "      <td>0.769231</td>\n",
       "      <td>11.792603</td>\n",
       "      <td>17.662222</td>\n",
       "      <td>329.548016</td>\n",
       "      <td>0.0</td>\n",
       "    </tr>\n",
       "  </tbody>\n",
       "</table>\n",
       "<p>12528 rows × 9 columns</p>\n",
       "</div>"
      ],
      "text/plain": [
       "        Mean of the integrated profile  \\\n",
       "0                           121.156250   \n",
       "1                            76.968750   \n",
       "2                           130.585938   \n",
       "3                           156.398438   \n",
       "4                            84.804688   \n",
       "...                                ...   \n",
       "12523                       124.312500   \n",
       "12524                       115.617188   \n",
       "12525                       116.031250   \n",
       "12526                       135.664062   \n",
       "12527                       120.726562   \n",
       "\n",
       "        Standard deviation of the integrated profile  \\\n",
       "0                                          48.372971   \n",
       "1                                          36.175557   \n",
       "2                                          53.229534   \n",
       "3                                          48.865942   \n",
       "4                                          36.117659   \n",
       "...                                              ...   \n",
       "12523                                      53.179053   \n",
       "12524                                      46.784600   \n",
       "12525                                      43.213846   \n",
       "12526                                      49.933749   \n",
       "12527                                      50.472256   \n",
       "\n",
       "        Excess kurtosis of the integrated profile  \\\n",
       "0                                        0.375485   \n",
       "1                                        0.712898   \n",
       "2                                        0.133408   \n",
       "3                                       -0.215989   \n",
       "4                                        0.825013   \n",
       "...                                           ...   \n",
       "12523                                   -0.012418   \n",
       "12524                                    0.218177   \n",
       "12525                                    0.663456   \n",
       "12526                                   -0.089940   \n",
       "12527                                    0.346178   \n",
       "\n",
       "        Skewness of the integrated profile   Mean of the DM-SNR curve  \\\n",
       "0                                -0.013165                   3.168896   \n",
       "1                                 3.388719                   2.399666   \n",
       "2                                -0.297242                   2.743311   \n",
       "3                                -0.171294                  17.471572   \n",
       "4                                 3.274125                   2.790134   \n",
       "...                                    ...                        ...   \n",
       "12523                            -0.556021                   7.186455   \n",
       "12524                             0.226757                   6.140468   \n",
       "12525                             0.433088                   0.785117   \n",
       "12526                            -0.226726                   3.859532   \n",
       "12527                             0.184797                   0.769231   \n",
       "\n",
       "        Standard deviation of the DM-SNR curve  \\\n",
       "0                                    18.399367   \n",
       "1                                    17.570997   \n",
       "2                                    22.362553   \n",
       "3                                          NaN   \n",
       "4                                    20.618009   \n",
       "...                                        ...   \n",
       "12523                                29.308266   \n",
       "12524                                      NaN   \n",
       "12525                                11.628149   \n",
       "12526                                21.501505   \n",
       "12527                                11.792603   \n",
       "\n",
       "        Excess kurtosis of the DM-SNR curve   Skewness of the DM-SNR curve  \\\n",
       "0                                  7.449874                      65.159298   \n",
       "1                                  9.414652                     102.722975   \n",
       "2                                  8.508364                      74.031324   \n",
       "3                                  2.958066                       7.197842   \n",
       "4                                  8.405008                      76.291128   \n",
       "...                                     ...                            ...   \n",
       "12523                              4.531382                      21.725143   \n",
       "12524                              5.732201                      34.357283   \n",
       "12525                             17.055215                     312.204325   \n",
       "12526                              7.398395                      62.334018   \n",
       "12527                             17.662222                     329.548016   \n",
       "\n",
       "       target_class  \n",
       "0               0.0  \n",
       "1               0.0  \n",
       "2               0.0  \n",
       "3               0.0  \n",
       "4               0.0  \n",
       "...             ...  \n",
       "12523           0.0  \n",
       "12524           0.0  \n",
       "12525           0.0  \n",
       "12526           0.0  \n",
       "12527           0.0  \n",
       "\n",
       "[12528 rows x 9 columns]"
      ]
     },
     "execution_count": 3,
     "metadata": {},
     "output_type": "execute_result"
    }
   ],
   "source": [
    "df"
   ]
  },
  {
   "cell_type": "code",
   "execution_count": 4,
   "id": "667fa2b6",
   "metadata": {},
   "outputs": [
    {
     "data": {
      "text/html": [
       "<div>\n",
       "<style scoped>\n",
       "    .dataframe tbody tr th:only-of-type {\n",
       "        vertical-align: middle;\n",
       "    }\n",
       "\n",
       "    .dataframe tbody tr th {\n",
       "        vertical-align: top;\n",
       "    }\n",
       "\n",
       "    .dataframe thead th {\n",
       "        text-align: right;\n",
       "    }\n",
       "</style>\n",
       "<table border=\"1\" class=\"dataframe\">\n",
       "  <thead>\n",
       "    <tr style=\"text-align: right;\">\n",
       "      <th></th>\n",
       "      <th>Mean of the integrated profile</th>\n",
       "      <th>Standard deviation of the integrated profile</th>\n",
       "      <th>Excess kurtosis of the integrated profile</th>\n",
       "      <th>Skewness of the integrated profile</th>\n",
       "      <th>Mean of the DM-SNR curve</th>\n",
       "      <th>Standard deviation of the DM-SNR curve</th>\n",
       "      <th>Excess kurtosis of the DM-SNR curve</th>\n",
       "      <th>Skewness of the DM-SNR curve</th>\n",
       "      <th>target_class</th>\n",
       "    </tr>\n",
       "  </thead>\n",
       "  <tbody>\n",
       "    <tr>\n",
       "      <th>count</th>\n",
       "      <td>12528.000000</td>\n",
       "      <td>12528.000000</td>\n",
       "      <td>10793.000000</td>\n",
       "      <td>12528.000000</td>\n",
       "      <td>12528.000000</td>\n",
       "      <td>11350.000000</td>\n",
       "      <td>12528.000000</td>\n",
       "      <td>11903.000000</td>\n",
       "      <td>12528.000000</td>\n",
       "    </tr>\n",
       "    <tr>\n",
       "      <th>mean</th>\n",
       "      <td>111.041841</td>\n",
       "      <td>46.521437</td>\n",
       "      <td>0.478548</td>\n",
       "      <td>1.778431</td>\n",
       "      <td>12.674758</td>\n",
       "      <td>26.351318</td>\n",
       "      <td>8.333489</td>\n",
       "      <td>105.525779</td>\n",
       "      <td>0.092034</td>\n",
       "    </tr>\n",
       "    <tr>\n",
       "      <th>std</th>\n",
       "      <td>25.672828</td>\n",
       "      <td>6.801077</td>\n",
       "      <td>1.064708</td>\n",
       "      <td>6.208450</td>\n",
       "      <td>29.613230</td>\n",
       "      <td>19.610842</td>\n",
       "      <td>4.535783</td>\n",
       "      <td>107.399585</td>\n",
       "      <td>0.289085</td>\n",
       "    </tr>\n",
       "    <tr>\n",
       "      <th>min</th>\n",
       "      <td>5.812500</td>\n",
       "      <td>24.772042</td>\n",
       "      <td>-1.738021</td>\n",
       "      <td>-1.791886</td>\n",
       "      <td>0.213211</td>\n",
       "      <td>7.370432</td>\n",
       "      <td>-3.139270</td>\n",
       "      <td>-1.976976</td>\n",
       "      <td>0.000000</td>\n",
       "    </tr>\n",
       "    <tr>\n",
       "      <th>25%</th>\n",
       "      <td>100.871094</td>\n",
       "      <td>42.362222</td>\n",
       "      <td>0.024652</td>\n",
       "      <td>-0.188142</td>\n",
       "      <td>1.910535</td>\n",
       "      <td>14.404353</td>\n",
       "      <td>5.803063</td>\n",
       "      <td>35.199899</td>\n",
       "      <td>0.000000</td>\n",
       "    </tr>\n",
       "    <tr>\n",
       "      <th>50%</th>\n",
       "      <td>115.183594</td>\n",
       "      <td>46.931022</td>\n",
       "      <td>0.223678</td>\n",
       "      <td>0.203317</td>\n",
       "      <td>2.792642</td>\n",
       "      <td>18.412402</td>\n",
       "      <td>8.451097</td>\n",
       "      <td>83.126301</td>\n",
       "      <td>0.000000</td>\n",
       "    </tr>\n",
       "    <tr>\n",
       "      <th>75%</th>\n",
       "      <td>127.109375</td>\n",
       "      <td>50.979103</td>\n",
       "      <td>0.473125</td>\n",
       "      <td>0.932374</td>\n",
       "      <td>5.413253</td>\n",
       "      <td>28.337418</td>\n",
       "      <td>10.727927</td>\n",
       "      <td>139.997850</td>\n",
       "      <td>0.000000</td>\n",
       "    </tr>\n",
       "    <tr>\n",
       "      <th>max</th>\n",
       "      <td>189.734375</td>\n",
       "      <td>91.808628</td>\n",
       "      <td>8.069522</td>\n",
       "      <td>68.101622</td>\n",
       "      <td>222.421405</td>\n",
       "      <td>110.642211</td>\n",
       "      <td>34.539844</td>\n",
       "      <td>1191.000837</td>\n",
       "      <td>1.000000</td>\n",
       "    </tr>\n",
       "  </tbody>\n",
       "</table>\n",
       "</div>"
      ],
      "text/plain": [
       "        Mean of the integrated profile  \\\n",
       "count                     12528.000000   \n",
       "mean                        111.041841   \n",
       "std                          25.672828   \n",
       "min                           5.812500   \n",
       "25%                         100.871094   \n",
       "50%                         115.183594   \n",
       "75%                         127.109375   \n",
       "max                         189.734375   \n",
       "\n",
       "        Standard deviation of the integrated profile  \\\n",
       "count                                   12528.000000   \n",
       "mean                                       46.521437   \n",
       "std                                         6.801077   \n",
       "min                                        24.772042   \n",
       "25%                                        42.362222   \n",
       "50%                                        46.931022   \n",
       "75%                                        50.979103   \n",
       "max                                        91.808628   \n",
       "\n",
       "        Excess kurtosis of the integrated profile  \\\n",
       "count                                10793.000000   \n",
       "mean                                     0.478548   \n",
       "std                                      1.064708   \n",
       "min                                     -1.738021   \n",
       "25%                                      0.024652   \n",
       "50%                                      0.223678   \n",
       "75%                                      0.473125   \n",
       "max                                      8.069522   \n",
       "\n",
       "        Skewness of the integrated profile   Mean of the DM-SNR curve  \\\n",
       "count                         12528.000000               12528.000000   \n",
       "mean                              1.778431                  12.674758   \n",
       "std                               6.208450                  29.613230   \n",
       "min                              -1.791886                   0.213211   \n",
       "25%                              -0.188142                   1.910535   \n",
       "50%                               0.203317                   2.792642   \n",
       "75%                               0.932374                   5.413253   \n",
       "max                              68.101622                 222.421405   \n",
       "\n",
       "        Standard deviation of the DM-SNR curve  \\\n",
       "count                             11350.000000   \n",
       "mean                                 26.351318   \n",
       "std                                  19.610842   \n",
       "min                                   7.370432   \n",
       "25%                                  14.404353   \n",
       "50%                                  18.412402   \n",
       "75%                                  28.337418   \n",
       "max                                 110.642211   \n",
       "\n",
       "        Excess kurtosis of the DM-SNR curve   Skewness of the DM-SNR curve  \\\n",
       "count                          12528.000000                   11903.000000   \n",
       "mean                               8.333489                     105.525779   \n",
       "std                                4.535783                     107.399585   \n",
       "min                               -3.139270                      -1.976976   \n",
       "25%                                5.803063                      35.199899   \n",
       "50%                                8.451097                      83.126301   \n",
       "75%                               10.727927                     139.997850   \n",
       "max                               34.539844                    1191.000837   \n",
       "\n",
       "       target_class  \n",
       "count  12528.000000  \n",
       "mean       0.092034  \n",
       "std        0.289085  \n",
       "min        0.000000  \n",
       "25%        0.000000  \n",
       "50%        0.000000  \n",
       "75%        0.000000  \n",
       "max        1.000000  "
      ]
     },
     "execution_count": 4,
     "metadata": {},
     "output_type": "execute_result"
    }
   ],
   "source": [
    "df.describe()"
   ]
  },
  {
   "cell_type": "code",
   "execution_count": 8,
   "id": "c6656801",
   "metadata": {},
   "outputs": [
    {
     "data": {
      "text/plain": [
       "[' Mean of the integrated profile',\n",
       " ' Standard deviation of the integrated profile',\n",
       " ' Excess kurtosis of the integrated profile',\n",
       " ' Skewness of the integrated profile',\n",
       " ' Mean of the DM-SNR curve',\n",
       " ' Standard deviation of the DM-SNR curve',\n",
       " ' Excess kurtosis of the DM-SNR curve',\n",
       " ' Skewness of the DM-SNR curve',\n",
       " 'target_class']"
      ]
     },
     "execution_count": 8,
     "metadata": {},
     "output_type": "execute_result"
    }
   ],
   "source": [
    "list(df.columns)"
   ]
  },
  {
   "cell_type": "code",
   "execution_count": 9,
   "id": "f15640a8",
   "metadata": {},
   "outputs": [
    {
     "data": {
      "text/plain": [
       " Mean of the integrated profile                     0\n",
       " Standard deviation of the integrated profile       0\n",
       " Excess kurtosis of the integrated profile       1735\n",
       " Skewness of the integrated profile                 0\n",
       " Mean of the DM-SNR curve                           0\n",
       " Standard deviation of the DM-SNR curve          1178\n",
       " Excess kurtosis of the DM-SNR curve                0\n",
       " Skewness of the DM-SNR curve                     625\n",
       "target_class                                        0\n",
       "dtype: int64"
      ]
     },
     "execution_count": 9,
     "metadata": {},
     "output_type": "execute_result"
    }
   ],
   "source": [
    "df.isnull().sum()"
   ]
  },
  {
   "cell_type": "code",
   "execution_count": 15,
   "id": "c4321523",
   "metadata": {},
   "outputs": [],
   "source": [
    "mean_excess = df[' Excess kurtosis of the integrated profile'].mean()\n",
    "mean_sd = df[' Standard deviation of the DM-SNR curve'].mean()\n",
    "mean_sk = df[' Skewness of the DM-SNR curve'].mean()"
   ]
  },
  {
   "cell_type": "code",
   "execution_count": 16,
   "id": "f6d02e85",
   "metadata": {},
   "outputs": [],
   "source": [
    "df[' Excess kurtosis of the integrated profile'].fillna(mean_excess, inplace=True)\n",
    "df[' Standard deviation of the DM-SNR curve'].fillna(mean_sd, inplace=True)\n",
    "df[' Skewness of the DM-SNR curve'].fillna(mean_sk, inplace=True)"
   ]
  },
  {
   "cell_type": "code",
   "execution_count": 19,
   "id": "2a44061a",
   "metadata": {},
   "outputs": [
    {
     "data": {
      "text/plain": [
       " Mean of the integrated profile                  0\n",
       " Standard deviation of the integrated profile    0\n",
       " Excess kurtosis of the integrated profile       0\n",
       " Skewness of the integrated profile              0\n",
       " Mean of the DM-SNR curve                        0\n",
       " Standard deviation of the DM-SNR curve          0\n",
       " Excess kurtosis of the DM-SNR curve             0\n",
       " Skewness of the DM-SNR curve                    0\n",
       "target_class                                     0\n",
       "dtype: int64"
      ]
     },
     "execution_count": 19,
     "metadata": {},
     "output_type": "execute_result"
    }
   ],
   "source": [
    "df.isnull().sum()"
   ]
  },
  {
   "cell_type": "code",
   "execution_count": 20,
   "id": "1bb68f37",
   "metadata": {},
   "outputs": [],
   "source": [
    "X = df.drop(['target_class'], axis=1)\n",
    "Y = df['target_class']"
   ]
  },
  {
   "cell_type": "code",
   "execution_count": 28,
   "id": "3c08bfa0",
   "metadata": {},
   "outputs": [],
   "source": [
    "x_train,x_test,y_train,y_test=train_test_split(X,Y,test_size=0.2,random_state=42)"
   ]
  },
  {
   "cell_type": "code",
   "execution_count": 29,
   "id": "5b9a90ec",
   "metadata": {},
   "outputs": [],
   "source": [
    "cols = x_train.columns"
   ]
  },
  {
   "cell_type": "code",
   "execution_count": 30,
   "id": "2411d94c",
   "metadata": {},
   "outputs": [],
   "source": [
    "sc = StandardScaler()\n",
    "X_train = sc.fit_transform(x_train)\n",
    "X_test = sc.transform(x_test)"
   ]
  },
  {
   "cell_type": "code",
   "execution_count": 32,
   "id": "52eb9c5c",
   "metadata": {},
   "outputs": [
    {
     "data": {
      "image/png": "[encoded data removed]",
      "text/plain": [
       "<Figure size 720x504 with 1 Axes>"
      ]
     },
     "metadata": {
      "needs_background": "light"
     },
     "output_type": "display_data"
    }
   ],
   "source": [
    "fig = plt.figure(figsize=(10,7))\n",
    "plt.boxplot(X_train)\n",
    "plt.show()"
   ]
  },
  {
   "cell_type": "code",
   "execution_count": 33,
   "id": "741378f1",
   "metadata": {},
   "outputs": [],
   "source": [
    "X_train = pd.DataFrame(X_train, columns = [cols])\n",
    "X_test = pd.DataFrame(X_test, columns = [cols])"
   ]
  },
  {
   "cell_type": "code",
   "execution_count": 34,
   "id": "7c645503",
   "metadata": {},
   "outputs": [
    {
     "data": {
      "text/html": [
       "<div>\n",
       "<style scoped>\n",
       "    .dataframe tbody tr th:only-of-type {\n",
       "        vertical-align: middle;\n",
       "    }\n",
       "\n",
       "    .dataframe tbody tr th {\n",
       "        vertical-align: top;\n",
       "    }\n",
       "\n",
       "    .dataframe thead tr th {\n",
       "        text-align: left;\n",
       "    }\n",
       "</style>\n",
       "<table border=\"1\" class=\"dataframe\">\n",
       "  <thead>\n",
       "    <tr>\n",
       "      <th></th>\n",
       "      <th>Mean of the integrated profile</th>\n",
       "      <th>Standard deviation of the integrated profile</th>\n",
       "      <th>Excess kurtosis of the integrated profile</th>\n",
       "      <th>Skewness of the integrated profile</th>\n",
       "      <th>Mean of the DM-SNR curve</th>\n",
       "      <th>Standard deviation of the DM-SNR curve</th>\n",
       "      <th>Excess kurtosis of the DM-SNR curve</th>\n",
       "      <th>Skewness of the DM-SNR curve</th>\n",
       "    </tr>\n",
       "  </thead>\n",
       "  <tbody>\n",
       "    <tr>\n",
       "      <th>count</th>\n",
       "      <td>1.002200e+04</td>\n",
       "      <td>1.002200e+04</td>\n",
       "      <td>1.002200e+04</td>\n",
       "      <td>1.002200e+04</td>\n",
       "      <td>1.002200e+04</td>\n",
       "      <td>1.002200e+04</td>\n",
       "      <td>1.002200e+04</td>\n",
       "      <td>1.002200e+04</td>\n",
       "    </tr>\n",
       "    <tr>\n",
       "      <th>mean</th>\n",
       "      <td>-6.504365e-17</td>\n",
       "      <td>-3.447540e-16</td>\n",
       "      <td>7.555100e-18</td>\n",
       "      <td>2.044142e-17</td>\n",
       "      <td>-1.972413e-17</td>\n",
       "      <td>1.099091e-16</td>\n",
       "      <td>5.373869e-17</td>\n",
       "      <td>-6.664440e-17</td>\n",
       "    </tr>\n",
       "    <tr>\n",
       "      <th>std</th>\n",
       "      <td>1.000050e+00</td>\n",
       "      <td>1.000050e+00</td>\n",
       "      <td>1.000050e+00</td>\n",
       "      <td>1.000050e+00</td>\n",
       "      <td>1.000050e+00</td>\n",
       "      <td>1.000050e+00</td>\n",
       "      <td>1.000050e+00</td>\n",
       "      <td>1.000050e+00</td>\n",
       "    </tr>\n",
       "    <tr>\n",
       "      <th>min</th>\n",
       "      <td>-4.068339e+00</td>\n",
       "      <td>-3.134139e+00</td>\n",
       "      <td>-2.223380e+00</td>\n",
       "      <td>-5.727451e-01</td>\n",
       "      <td>-4.214866e-01</td>\n",
       "      <td>-1.021415e+00</td>\n",
       "      <td>-2.455262e+00</td>\n",
       "      <td>-1.021468e+00</td>\n",
       "    </tr>\n",
       "    <tr>\n",
       "      <th>25%</th>\n",
       "      <td>-3.959611e-01</td>\n",
       "      <td>-6.097959e-01</td>\n",
       "      <td>-4.255271e-01</td>\n",
       "      <td>-3.173982e-01</td>\n",
       "      <td>-3.643063e-01</td>\n",
       "      <td>-6.246641e-01</td>\n",
       "      <td>-5.566043e-01</td>\n",
       "      <td>-6.425814e-01</td>\n",
       "    </tr>\n",
       "    <tr>\n",
       "      <th>50%</th>\n",
       "      <td>1.596222e-01</td>\n",
       "      <td>6.301244e-02</td>\n",
       "      <td>-1.901037e-01</td>\n",
       "      <td>-2.550993e-01</td>\n",
       "      <td>-3.344944e-01</td>\n",
       "      <td>-3.613014e-01</td>\n",
       "      <td>2.694159e-02</td>\n",
       "      <td>-1.714147e-01</td>\n",
       "    </tr>\n",
       "    <tr>\n",
       "      <th>75%</th>\n",
       "      <td>6.302598e-01</td>\n",
       "      <td>6.596210e-01</td>\n",
       "      <td>-1.547561e-03</td>\n",
       "      <td>-1.375948e-01</td>\n",
       "      <td>-2.455011e-01</td>\n",
       "      <td>2.249242e-02</td>\n",
       "      <td>5.321119e-01</td>\n",
       "      <td>2.928110e-01</td>\n",
       "    </tr>\n",
       "    <tr>\n",
       "      <th>max</th>\n",
       "      <td>3.042041e+00</td>\n",
       "      <td>6.582758e+00</td>\n",
       "      <td>7.607455e+00</td>\n",
       "      <td>1.056901e+01</td>\n",
       "      <td>6.601589e+00</td>\n",
       "      <td>4.469061e+00</td>\n",
       "      <td>5.789238e+00</td>\n",
       "      <td>1.036577e+01</td>\n",
       "    </tr>\n",
       "  </tbody>\n",
       "</table>\n",
       "</div>"
      ],
      "text/plain": [
       "       Mean of the integrated profile  \\\n",
       "count                    1.002200e+04   \n",
       "mean                    -6.504365e-17   \n",
       "std                      1.000050e+00   \n",
       "min                     -4.068339e+00   \n",
       "25%                     -3.959611e-01   \n",
       "50%                      1.596222e-01   \n",
       "75%                      6.302598e-01   \n",
       "max                      3.042041e+00   \n",
       "\n",
       "       Standard deviation of the integrated profile  \\\n",
       "count                                  1.002200e+04   \n",
       "mean                                  -3.447540e-16   \n",
       "std                                    1.000050e+00   \n",
       "min                                   -3.134139e+00   \n",
       "25%                                   -6.097959e-01   \n",
       "50%                                    6.301244e-02   \n",
       "75%                                    6.596210e-01   \n",
       "max                                    6.582758e+00   \n",
       "\n",
       "       Excess kurtosis of the integrated profile  \\\n",
       "count                               1.002200e+04   \n",
       "mean                                7.555100e-18   \n",
       "std                                 1.000050e+00   \n",
       "min                                -2.223380e+00   \n",
       "25%                                -4.255271e-01   \n",
       "50%                                -1.901037e-01   \n",
       "75%                                -1.547561e-03   \n",
       "max                                 7.607455e+00   \n",
       "\n",
       "       Skewness of the integrated profile  Mean of the DM-SNR curve  \\\n",
       "count                        1.002200e+04              1.002200e+04   \n",
       "mean                         2.044142e-17             -1.972413e-17   \n",
       "std                          1.000050e+00              1.000050e+00   \n",
       "min                         -5.727451e-01             -4.214866e-01   \n",
       "25%                         -3.173982e-01             -3.643063e-01   \n",
       "50%                         -2.550993e-01             -3.344944e-01   \n",
       "75%                         -1.375948e-01             -2.455011e-01   \n",
       "max                          1.056901e+01              6.601589e+00   \n",
       "\n",
       "       Standard deviation of the DM-SNR curve  \\\n",
       "count                            1.002200e+04   \n",
       "mean                             1.099091e-16   \n",
       "std                              1.000050e+00   \n",
       "min                             -1.021415e+00   \n",
       "25%                             -6.246641e-01   \n",
       "50%                             -3.613014e-01   \n",
       "75%                              2.249242e-02   \n",
       "max                              4.469061e+00   \n",
       "\n",
       "       Excess kurtosis of the DM-SNR curve  Skewness of the DM-SNR curve  \n",
       "count                         1.002200e+04                  1.002200e+04  \n",
       "mean                          5.373869e-17                 -6.664440e-17  \n",
       "std                           1.000050e+00                  1.000050e+00  \n",
       "min                          -2.455262e+00                 -1.021468e+00  \n",
       "25%                          -5.566043e-01                 -6.425814e-01  \n",
       "50%                           2.694159e-02                 -1.714147e-01  \n",
       "75%                           5.321119e-01                  2.928110e-01  \n",
       "max                           5.789238e+00                  1.036577e+01  "
      ]
     },
     "execution_count": 34,
     "metadata": {},
     "output_type": "execute_result"
    }
   ],
   "source": [
    "X_train.describe()"
   ]
  },
  {
   "cell_type": "code",
   "execution_count": 35,
   "id": "357a9992",
   "metadata": {},
   "outputs": [
    {
     "data": {
      "text/plain": [
       " Mean of the integrated profile                  0\n",
       " Standard deviation of the integrated profile    0\n",
       " Excess kurtosis of the integrated profile       0\n",
       " Skewness of the integrated profile              0\n",
       " Mean of the DM-SNR curve                        0\n",
       " Standard deviation of the DM-SNR curve          0\n",
       " Excess kurtosis of the DM-SNR curve             0\n",
       " Skewness of the DM-SNR curve                    0\n",
       "dtype: int64"
      ]
     },
     "execution_count": 35,
     "metadata": {},
     "output_type": "execute_result"
    }
   ],
   "source": [
    "X_train.isnull().sum()"
   ]
  },
  {
   "cell_type": "code",
   "execution_count": 37,
   "id": "d1b12f21",
   "metadata": {},
   "outputs": [
    {
     "name": "stderr",
     "output_type": "stream",
     "text": [
      "/Users/meghanapenmetsa/opt/anaconda3/lib/python3.8/site-packages/pandas/core/generic.py:4153: PerformanceWarning: dropping on a non-lexsorted multi-index without a level parameter may impact performance.\n",
      "  obj = obj._drop_axis(labels, axis, level=level, errors=errors)\n"
     ]
    },
    {
     "data": {
      "text/html": [
       "<div>\n",
       "<style scoped>\n",
       "    .dataframe tbody tr th:only-of-type {\n",
       "        vertical-align: middle;\n",
       "    }\n",
       "\n",
       "    .dataframe tbody tr th {\n",
       "        vertical-align: top;\n",
       "    }\n",
       "\n",
       "    .dataframe thead tr th {\n",
       "        text-align: left;\n",
       "    }\n",
       "</style>\n",
       "<table border=\"1\" class=\"dataframe\">\n",
       "  <thead>\n",
       "    <tr>\n",
       "      <th></th>\n",
       "      <th>Mean of the integrated profile</th>\n",
       "      <th>Standard deviation of the integrated profile</th>\n",
       "      <th>Skewness of the integrated profile</th>\n",
       "      <th>Mean of the DM-SNR curve</th>\n",
       "      <th>Excess kurtosis of the DM-SNR curve</th>\n",
       "    </tr>\n",
       "  </thead>\n",
       "  <tbody>\n",
       "    <tr>\n",
       "      <th>0</th>\n",
       "      <td>-0.014800</td>\n",
       "      <td>0.008072</td>\n",
       "      <td>-0.267138</td>\n",
       "      <td>-0.327459</td>\n",
       "      <td>-0.060276</td>\n",
       "    </tr>\n",
       "    <tr>\n",
       "      <th>1</th>\n",
       "      <td>0.656612</td>\n",
       "      <td>-0.935945</td>\n",
       "      <td>-0.182541</td>\n",
       "      <td>-0.269155</td>\n",
       "      <td>-0.547480</td>\n",
       "    </tr>\n",
       "    <tr>\n",
       "      <th>2</th>\n",
       "      <td>0.519490</td>\n",
       "      <td>0.077371</td>\n",
       "      <td>-0.261074</td>\n",
       "      <td>-0.384134</td>\n",
       "      <td>1.028518</td>\n",
       "    </tr>\n",
       "    <tr>\n",
       "      <th>3</th>\n",
       "      <td>-0.135008</td>\n",
       "      <td>-0.117301</td>\n",
       "      <td>-0.159627</td>\n",
       "      <td>-0.362088</td>\n",
       "      <td>0.469943</td>\n",
       "    </tr>\n",
       "    <tr>\n",
       "      <th>4</th>\n",
       "      <td>0.837226</td>\n",
       "      <td>-0.515738</td>\n",
       "      <td>-0.214350</td>\n",
       "      <td>-0.351977</td>\n",
       "      <td>0.208092</td>\n",
       "    </tr>\n",
       "    <tr>\n",
       "      <th>...</th>\n",
       "      <td>...</td>\n",
       "      <td>...</td>\n",
       "      <td>...</td>\n",
       "      <td>...</td>\n",
       "      <td>...</td>\n",
       "    </tr>\n",
       "    <tr>\n",
       "      <th>10017</th>\n",
       "      <td>-0.202058</td>\n",
       "      <td>-2.020695</td>\n",
       "      <td>0.199563</td>\n",
       "      <td>-0.348382</td>\n",
       "      <td>0.169907</td>\n",
       "    </tr>\n",
       "    <tr>\n",
       "      <th>10018</th>\n",
       "      <td>-0.062521</td>\n",
       "      <td>-0.295525</td>\n",
       "      <td>-0.176671</td>\n",
       "      <td>-0.403625</td>\n",
       "      <td>2.088420</td>\n",
       "    </tr>\n",
       "    <tr>\n",
       "      <th>10019</th>\n",
       "      <td>-3.871717</td>\n",
       "      <td>-1.668218</td>\n",
       "      <td>4.747997</td>\n",
       "      <td>2.066758</td>\n",
       "      <td>-1.606886</td>\n",
       "    </tr>\n",
       "    <tr>\n",
       "      <th>10020</th>\n",
       "      <td>-0.203568</td>\n",
       "      <td>0.227745</td>\n",
       "      <td>-0.222527</td>\n",
       "      <td>-0.309120</td>\n",
       "      <td>-0.231820</td>\n",
       "    </tr>\n",
       "    <tr>\n",
       "      <th>10021</th>\n",
       "      <td>0.488079</td>\n",
       "      <td>-0.483961</td>\n",
       "      <td>-0.216986</td>\n",
       "      <td>-0.136877</td>\n",
       "      <td>-0.863370</td>\n",
       "    </tr>\n",
       "  </tbody>\n",
       "</table>\n",
       "<p>10022 rows × 5 columns</p>\n",
       "</div>"
      ],
      "text/plain": [
       "       Mean of the integrated profile  \\\n",
       "0                           -0.014800   \n",
       "1                            0.656612   \n",
       "2                            0.519490   \n",
       "3                           -0.135008   \n",
       "4                            0.837226   \n",
       "...                               ...   \n",
       "10017                       -0.202058   \n",
       "10018                       -0.062521   \n",
       "10019                       -3.871717   \n",
       "10020                       -0.203568   \n",
       "10021                        0.488079   \n",
       "\n",
       "       Standard deviation of the integrated profile  \\\n",
       "0                                          0.008072   \n",
       "1                                         -0.935945   \n",
       "2                                          0.077371   \n",
       "3                                         -0.117301   \n",
       "4                                         -0.515738   \n",
       "...                                             ...   \n",
       "10017                                     -2.020695   \n",
       "10018                                     -0.295525   \n",
       "10019                                     -1.668218   \n",
       "10020                                      0.227745   \n",
       "10021                                     -0.483961   \n",
       "\n",
       "       Skewness of the integrated profile  Mean of the DM-SNR curve  \\\n",
       "0                               -0.267138                 -0.327459   \n",
       "1                               -0.182541                 -0.269155   \n",
       "2                               -0.261074                 -0.384134   \n",
       "3                               -0.159627                 -0.362088   \n",
       "4                               -0.214350                 -0.351977   \n",
       "...                                   ...                       ...   \n",
       "10017                            0.199563                 -0.348382   \n",
       "10018                           -0.176671                 -0.403625   \n",
       "10019                            4.747997                  2.066758   \n",
       "10020                           -0.222527                 -0.309120   \n",
       "10021                           -0.216986                 -0.136877   \n",
       "\n",
       "       Excess kurtosis of the DM-SNR curve  \n",
       "0                                -0.060276  \n",
       "1                                -0.547480  \n",
       "2                                 1.028518  \n",
       "3                                 0.469943  \n",
       "4                                 0.208092  \n",
       "...                                    ...  \n",
       "10017                             0.169907  \n",
       "10018                             2.088420  \n",
       "10019                            -1.606886  \n",
       "10020                            -0.231820  \n",
       "10021                            -0.863370  \n",
       "\n",
       "[10022 rows x 5 columns]"
      ]
     },
     "execution_count": 37,
     "metadata": {},
     "output_type": "execute_result"
    }
   ],
   "source": [
    "X_train.drop([' Excess kurtosis of the integrated profile', ' Standard deviation of the DM-SNR curve', ' Skewness of the DM-SNR curve'], axis=1)"
   ]
  },
  {
   "cell_type": "code",
   "execution_count": 38,
   "id": "ac407fe2",
   "metadata": {},
   "outputs": [],
   "source": [
    "from sklearn.svm import SVC\n",
    "from sklearn.metrics import accuracy_score\n",
    "from sklearn.metrics import confusion_matrix"
   ]
  },
  {
   "cell_type": "code",
   "execution_count": 44,
   "id": "9f3b12e7",
   "metadata": {},
   "outputs": [
    {
     "data": {
      "text/plain": [
       "SVC()"
      ]
     },
     "execution_count": 44,
     "metadata": {},
     "output_type": "execute_result"
    }
   ],
   "source": [
    "svc = SVC()\n",
    "svc.fit(X_train, y_train)"
   ]
  },
  {
   "cell_type": "code",
   "execution_count": 47,
   "id": "cedd7176",
   "metadata": {},
   "outputs": [
    {
     "name": "stdout",
     "output_type": "stream",
     "text": [
      "Accuracy on Default Model: 0.9796488427773344\n",
      "\n"
     ]
    },
    {
     "data": {
      "text/plain": [
       "array([[2272,    7],\n",
       "       [  44,  183]])"
      ]
     },
     "execution_count": 47,
     "metadata": {},
     "output_type": "execute_result"
    }
   ],
   "source": [
    "y_pred=svc.predict(X_test)\n",
    "print('Accuracy on Default Model:',accuracy_score(y_test,y_pred))\n",
    "print()\n",
    "confusion_matrix(y_test, y_pred)"
   ]
  },
  {
   "cell_type": "code",
   "execution_count": 48,
   "id": "269d0807",
   "metadata": {},
   "outputs": [
    {
     "name": "stdout",
     "output_type": "stream",
     "text": [
      "Accuracy on RBF, c=100 Model: 0.9776536312849162\n",
      "\n"
     ]
    },
    {
     "data": {
      "text/plain": [
       "array([[2265,   14],\n",
       "       [  42,  185]])"
      ]
     },
     "execution_count": 48,
     "metadata": {},
     "output_type": "execute_result"
    }
   ],
   "source": [
    "svc=SVC(C=100.0) \n",
    "svc.fit(X_train, y_train)\n",
    "y_pred=svc.predict(X_test)\n",
    "print('Accuracy on RBF, c=100 Model:',accuracy_score(y_test,y_pred))\n",
    "print()\n",
    "confusion_matrix(y_test, y_pred)"
   ]
  },
  {
   "cell_type": "code",
   "execution_count": 49,
   "id": "67162ad3",
   "metadata": {},
   "outputs": [
    {
     "name": "stdout",
     "output_type": "stream",
     "text": [
      "Accuracy on RBF, c=1000 Model: 0.9764565043894653\n",
      "\n"
     ]
    },
    {
     "data": {
      "text/plain": [
       "array([[2260,   19],\n",
       "       [  40,  187]])"
      ]
     },
     "execution_count": 49,
     "metadata": {},
     "output_type": "execute_result"
    }
   ],
   "source": [
    "svc=SVC(C=1000.0) \n",
    "svc.fit(X_train,y_train)\n",
    "y_pred=svc.predict(X_test)\n",
    "print('Accuracy on RBF, c=1000 Model:',accuracy_score(y_test,y_pred))\n",
    "print()\n",
    "confusion_matrix(y_test, y_pred)"
   ]
  },
  {
   "cell_type": "code",
   "execution_count": 50,
   "id": "950dd389",
   "metadata": {},
   "outputs": [
    {
     "name": "stdout",
     "output_type": "stream",
     "text": [
      "Accuracy on linear, c=1 Model: 0.9776536312849162\n",
      "\n"
     ]
    },
    {
     "data": {
      "text/plain": [
       "array([[2272,    7],\n",
       "       [  49,  178]])"
      ]
     },
     "execution_count": 50,
     "metadata": {},
     "output_type": "execute_result"
    }
   ],
   "source": [
    "svc=SVC(kernel='linear', C=1.0) \n",
    "svc.fit(X_train,y_train)\n",
    "y_pred=svc.predict(X_test)\n",
    "print('Accuracy on linear, c=1 Model:',accuracy_score(y_test,y_pred))\n",
    "print()\n",
    "confusion_matrix(y_test, y_pred)"
   ]
  },
  {
   "cell_type": "code",
   "execution_count": 51,
   "id": "cb04c277",
   "metadata": {},
   "outputs": [
    {
     "name": "stdout",
     "output_type": "stream",
     "text": [
      "Accuracy on linear, c=100 Model: 0.9780526735833999\n",
      "\n"
     ]
    },
    {
     "data": {
      "text/plain": [
       "array([[2272,    7],\n",
       "       [  48,  179]])"
      ]
     },
     "execution_count": 51,
     "metadata": {},
     "output_type": "execute_result"
    }
   ],
   "source": [
    "svc=SVC(kernel='linear', C=100.0) \n",
    "svc.fit(X_train,y_train)\n",
    "y_pred=svc.predict(X_test)\n",
    "print('Accuracy on linear, c=100 Model:',accuracy_score(y_test,y_pred))\n",
    "print()\n",
    "confusion_matrix(y_test, y_pred)"
   ]
  },
  {
   "cell_type": "code",
   "execution_count": 52,
   "id": "87d11a82",
   "metadata": {},
   "outputs": [
    {
     "name": "stdout",
     "output_type": "stream",
     "text": [
      "Accuracy on linear, c=1000 Model: 0.9780526735833999\n",
      "\n"
     ]
    },
    {
     "data": {
      "text/plain": [
       "array([[2273,    6],\n",
       "       [  49,  178]])"
      ]
     },
     "execution_count": 52,
     "metadata": {},
     "output_type": "execute_result"
    }
   ],
   "source": [
    "svc=SVC(kernel='linear', C=1000.0) \n",
    "svc.fit(X_train,y_train)\n",
    "y_pred=svc.predict(X_test)\n",
    "print('Accuracy on linear, c=1000 Model:',accuracy_score(y_test,y_pred))\n",
    "print()\n",
    "confusion_matrix(y_test, y_pred)"
   ]
  },
  {
   "cell_type": "code",
   "execution_count": 53,
   "id": "2026f4b1",
   "metadata": {},
   "outputs": [
    {
     "name": "stdout",
     "output_type": "stream",
     "text": [
      "Accuracy on RBF, c=100 , Gamma=100 Model: 0.9094173982442139\n",
      "\n"
     ]
    },
    {
     "data": {
      "text/plain": [
       "array([[2279,    0],\n",
       "       [ 227,    0]])"
      ]
     },
     "execution_count": 53,
     "metadata": {},
     "output_type": "execute_result"
    }
   ],
   "source": [
    "svc=SVC(C=100.0,gamma=100) \n",
    "svc.fit(X_train,y_train)\n",
    "y_pred=svc.predict(X_test)\n",
    "print('Accuracy on RBF, c=100 , Gamma=100 Model:',accuracy_score(y_test,y_pred))\n",
    "print()\n",
    "confusion_matrix(y_test, y_pred)"
   ]
  },
  {
   "cell_type": "code",
   "execution_count": 54,
   "id": "a387efc7",
   "metadata": {},
   "outputs": [
    {
     "name": "stdout",
     "output_type": "stream",
     "text": [
      "Accuracy on linear, c=100, gamma=100 Model: 0.9780526735833999\n",
      "\n"
     ]
    },
    {
     "data": {
      "text/plain": [
       "array([[2272,    7],\n",
       "       [  48,  179]])"
      ]
     },
     "execution_count": 54,
     "metadata": {},
     "output_type": "execute_result"
    }
   ],
   "source": [
    "svc=SVC(kernel='linear', C=100.0,gamma=100) \n",
    "svc.fit(X_train,y_train)\n",
    "y_pred=svc.predict(X_test)\n",
    "y_pred_train=svc.predict(X_train)\n",
    "print('Accuracy on linear, c=100, gamma=100 Model:',accuracy_score(y_test,y_pred))\n",
    "print()\n",
    "confusion_matrix(y_test, y_pred)"
   ]
  },
  {
   "cell_type": "code",
   "execution_count": 55,
   "id": "f4721a64",
   "metadata": {},
   "outputs": [
    {
     "name": "stdout",
     "output_type": "stream",
     "text": [
      "Accuracy on c=1000 ,gamma=1000 Model: 0.9094173982442139\n",
      "\n"
     ]
    },
    {
     "data": {
      "text/plain": [
       "array([[2279,    0],\n",
       "       [ 227,    0]])"
      ]
     },
     "execution_count": 55,
     "metadata": {},
     "output_type": "execute_result"
    }
   ],
   "source": [
    "svc=SVC(C=1000.0,gamma=1000) \n",
    "svc.fit(X_train,y_train)\n",
    "y_pred=svc.predict(X_test)\n",
    "print('Accuracy on c=1000 ,gamma=1000 Model:',accuracy_score(y_test,y_pred))\n",
    "print()\n",
    "confusion_matrix(y_test, y_pred)"
   ]
  },
  {
   "cell_type": "code",
   "execution_count": null,
   "id": "a8279a71",
   "metadata": {},
   "outputs": [],
   "source": [
    "svc=SVC(kernel='linear', C=1000.0,gamma=1000) \n",
    "svc.fit(X_train,y_train)\n",
    "y_pred=svc.predict(X_test)\n",
    "print('Accuracy on linear, c=1000 ,gamma=1000 Model:',accuracy_score(y_test,y_pred))\n",
    "print()\n",
    "confusion_matrix(y_test, y_pred)"
   ]
  },
  {
   "cell_type": "code",
   "execution_count": null,
   "id": "919ffd31",
   "metadata": {},
   "outputs": [],
   "source": []
  }
 ],
 "metadata": {
  "kernelspec": {
   "display_name": "Python 3",
   "language": "python",
   "name": "python3"
  },
  "language_info": {
   "codemirror_mode": {
    "name": "ipython",
    "version": 3
   },
   "file_extension": ".py",
   "mimetype": "text/x-python",
   "name": "python",
   "nbconvert_exporter": "python",
   "pygments_lexer": "ipython3",
   "version": "3.8.8"
  }
 },
 "nbformat": 4,
 "nbformat_minor": 5
}
